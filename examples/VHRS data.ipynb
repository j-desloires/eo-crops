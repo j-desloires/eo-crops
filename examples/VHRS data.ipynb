{
 "cells": [
  {
   "cell_type": "markdown",
   "id": "decc16fd-a7a9-4c5d-aea6-3558028049ba",
   "metadata": {},
   "source": [
    "# Third party commercial data"
   ]
  },
  {
   "cell_type": "markdown",
   "id": "7e8ef3e1-fac8-4e7d-b619-1d529d2da6d2",
   "metadata": {},
   "source": [
    "The aim of this notebook is to guide you how to get Very High Resolution Satellite (VHRS) data using Sentinelhub and eo-learn. Price for commercial data is described there https://www.sentinel-hub.com/pricing/.\n",
    "\n",
    "The workflow for agriculture purposes is as follows :\n",
    "\n",
    "1) Read shapefile that represent you field (boundaries or microplots)\n",
    "\n",
    "2) Extract Sentinel-2 data and compute averaged NDVI time series to get a summary of the season vegetation dynamic.\n",
    "\n",
    "3) Get the index of time when NDVI is maximum (season's peak) and add +/- one month to this date to get the time period for VHRS data extraction.\n",
    "\n",
    "4) Extract VHRS data. If provider is Airbus, you can apply pansharpening algorithms to get the spatial resolution from the panchromatic band.\n",
    "\n",
    "5) Preprocess and save the data.\n",
    "\n",
    "6) Optional : intersects pixels with trial microplots polygons to get a value of NDVI for each microplot."
   ]
  },
  {
   "cell_type": "markdown",
   "id": "18f4338d-47d3-4680-8949-48dce4d1ec42",
   "metadata": {},
   "source": [
    "## Set your working environment"
   ]
  },
  {
   "cell_type": "markdown",
   "id": "5ff84548-45ed-4c18-8c26-66c38b4c2f89",
   "metadata": {},
   "source": [
    "### Import the packages"
   ]
  },
  {
   "cell_type": "code",
   "execution_count": 54,
   "id": "9f951ed2-adb4-422a-b4c1-e0a0151cc0f9",
   "metadata": {},
   "outputs": [],
   "source": [
    "import warnings\n",
    "warnings.filterwarnings(\"ignore\")\n",
    "\n",
    "import glob\n",
    "\n",
    "\n",
    "import geopandas as gpd\n",
    "\n",
    "import os\n",
    "import numpy as np\n",
    "\n",
    "import matplotlib.pyplot as plt\n",
    "\n",
    "\n",
    "from importlib import reload\n",
    "\n",
    "from eocrops.input import utils_sh as utils_sh\n",
    "from eocrops.input import sentinel2 as sentinel2\n",
    "from eocrops.input import vhrs as vhrs\n",
    "from eocrops.tasks import preprocessing as preprocessing"
   ]
  },
  {
   "cell_type": "markdown",
   "id": "7325554a-5b71-4c54-89ce-9b087ba054c0",
   "metadata": {},
   "source": [
    "### Read your vector file"
   ]
  },
  {
   "cell_type": "code",
   "execution_count": 33,
   "id": "c525df92-c794-4867-b2f1-1021dee5c076",
   "metadata": {},
   "outputs": [
    {
     "name": "stdout",
     "output_type": "stream",
     "text": [
      "/home/s999379/git-repo/eo-crops\n"
     ]
    }
   ],
   "source": [
    "dir_path = os.path.dirname(os.getcwd())\n",
    "print(dir_path)\n",
    "#read microplot data\n",
    "shapefile_input = gpd.read_file(os.path.join(dir_path, './examples/layers/POLYGON.shp'))\n"
   ]
  },
  {
   "cell_type": "code",
   "execution_count": 72,
   "id": "39c2e87d-f9ef-4147-8d9f-c415519143ce",
   "metadata": {},
   "outputs": [],
   "source": [
    "api =''\n",
    "client_id =''\n",
    "client_secret =''\n",
    "config = utils_sh.config_sentinelhub_cred(api, client_id, client_secret)\n",
    "#Provide here your planet API key \n",
    "config.planet_key = ''"
   ]
  },
  {
   "cell_type": "markdown",
   "id": "4f173e0b-e236-4882-bff9-c16f25e76407",
   "metadata": {},
   "source": [
    "### Extract S2 data"
   ]
  },
  {
   "cell_type": "code",
   "execution_count": 39,
   "id": "c0dc4fd0-86b7-474a-831d-422062663e0f",
   "metadata": {},
   "outputs": [],
   "source": [
    "time_period = ('2020-02-01', '2020-10-30')"
   ]
  },
  {
   "cell_type": "code",
   "execution_count": 40,
   "id": "1c34d76b-ab4b-4ed8-989c-7ba450df5337",
   "metadata": {},
   "outputs": [],
   "source": [
    "patch = sentinel2.workflow_instructions_S2L2A(**kwargs,\n",
    "                                              coverage_predicate=0.5,\n",
    "                                              interpolation={'interpolate' : True,\n",
    "                                                             'period_length' : 8})  # you can add period_length in the dictionary to resample\n"
   ]
  },
  {
   "cell_type": "code",
   "execution_count": 43,
   "id": "7ac5fbd7-bd82-489c-847f-08012095c0aa",
   "metadata": {},
   "outputs": [
    {
     "data": {
      "image/png": "[encoded data removed]",
      "text/plain": [
       "<Figure size 360x360 with 1 Axes>"
      ]
     },
     "metadata": {
      "needs_background": "light"
     },
     "output_type": "display_data"
    }
   ],
   "source": [
    "#RGB\n",
    "plt.figure(figsize=(5, 5))\n",
    "plt.imshow(np.clip(patch.data['BANDS-S2-L2A'][15][..., [2, 1, 0]]*2.5, 0, 1), vmin=0, vmax=1);\n",
    "plt.axis(False);\n",
    "plt.show()"
   ]
  },
  {
   "cell_type": "code",
   "execution_count": 202,
   "id": "d2fac3a6-797f-4288-8833-0aeb33871898",
   "metadata": {},
   "outputs": [],
   "source": [
    "preprocessing = reload(preprocessing)\n",
    "#Mask out pixels that are oustide the polygon for visualisation and apply a binary erosion with radius = 1 to keep only pure pixels\n",
    "masking = preprocessing.MaskPixels([\"NDVI\"])\n",
    "patch = masking.execute(patch, erosion = 1)"
   ]
  },
  {
   "cell_type": "code",
   "execution_count": null,
   "id": "d31f67f3-7a66-417b-aad8-0f61c39bb441",
   "metadata": {},
   "outputs": [],
   "source": [
    "#NDVI\n",
    "plt.figure(figsize=(5, 5))\n",
    "plt.imshow(patch.data['NDVI'][15].squeeze());\n",
    "plt.axis(False);\n",
    "plt.show()"
   ]
  },
  {
   "cell_type": "code",
   "execution_count": 203,
   "id": "ed4fb29a-cfcf-431f-8d53-5b93e566646e",
   "metadata": {},
   "outputs": [
    {
     "data": {
      "image/png": "[encoded data removed]",
      "text/plain": [
       "<Figure size 360x360 with 1 Axes>"
      ]
     },
     "metadata": {
      "needs_background": "light"
     },
     "output_type": "display_data"
    }
   ],
   "source": [
    "#LAI Time Series from masked field\n",
    "variable = 'NDVI'\n",
    "stats_df = preprocessing.get_time_series_profile(patch = patch, \n",
    "                                                 variable = variable, \n",
    "                                                 mask_name = 'MASK', \n",
    "                                                 function = np.nanmean)\n",
    "\n",
    "plt.plot(patch.timestamp, stats_df[variable])\n",
    "plt.xticks(rotation=90)\n",
    "plt.show()"
   ]
  },
  {
   "cell_type": "code",
   "execution_count": 49,
   "id": "9f9105ab-0a88-4ea8-a1c7-381729118bb7",
   "metadata": {},
   "outputs": [
    {
     "data": {
      "image/png": "[encoded data removed]",
      "text/plain": [
       "<Figure size 432x288 with 1 Axes>"
      ]
     },
     "metadata": {
      "needs_background": "light"
     },
     "output_type": "display_data"
    }
   ],
   "source": [
    "#Peak of the season is at 15/05 \n",
    "time_max_index = np.nanargmax(stats_df[variable])\n",
    "patch.timestamp[np.nanargmax(stats_df[variable])]"
   ]
  },
  {
   "cell_type": "markdown",
   "id": "52bd3b0c-e232-4ccf-8155-9a97ab2e9d46",
   "metadata": {
    "pycharm": {
     "name": "#%% md\n"
    }
   },
   "source": [
    "## VHRS data"
   ]
  },
  {
   "cell_type": "code",
   "id": "7876d697-aa75-4db2-947b-d1e6a4d13fae",
   "metadata": {
    "pycharm": {
     "name": "#%%\n"
    }
   },
   "source": [
    "#Define the time period\n",
    "time_period_vhrs = ('2020-04-15', '2020-06-15')\n",
    "#Define the workflow\n",
    "download_workflow = vhrs.DownloadVHRSSentinelHub(shapefile=shapefile_input,\n",
    "                                                 time_stamp = time_period_vhrs,\n",
    "                                                 config = config,\n",
    "                                                 maxCloudCoverage=10)"
   ],
   "execution_count": null,
   "outputs": []
  },
  {
   "cell_type": "markdown",
   "id": "d851a64e-d689-486e-8965-37a7ca9b6926",
   "metadata": {
    "pycharm": {
     "name": "#%% md\n"
    }
   },
   "source": [
    "### Extract Planetscope data"
   ]
  },
  {
   "cell_type": "code",
   "id": "08b85a00-3c63-4c31-b8b8-400d15777eca",
   "metadata": {
    "pycharm": {
     "name": "#%%\n"
    }
   },
   "source": [
    "#Define the provider as follows for Planetscope\n",
    "provider_planet = ('PLANET', 'PSScene4Band')\n",
    "#You can retrieve order id and collection ID on your SH account (https://apps.sentinel-hub.com/dashboard/#/tpdi) instead of doing a request again\n",
    "order_id, collection_id = '\t2f900fad-1f5e-4a46-b6da-327012d400e1', '79a1a2a9-ccf8-4e1f-8f42-9d854bf1dca9'"
   ],
   "execution_count": null,
   "outputs": []
  },
  {
   "cell_type": "code",
   "execution_count": 133,
   "id": "e5a6cfb6-dee3-4f11-aa83-3079f113d67c",
   "metadata": {},
   "outputs": [],
   "source": [
    "#Define the workflow to get your order_id and collection_id. It can be also be retrieved in your SH account in https://apps.sentinel-hub.com/dashboard/#/tpdi\n",
    "order_id, results = download_workflow.execute_query(provider_planet, name_query='Example Planet')"
   ]
  },
  {
   "cell_type": "code",
   "execution_count": 130,
   "id": "dd38636c-58b4-4752-a25a-843c644b259b",
   "metadata": {},
   "outputs": [
    {
     "name": "stdout",
     "output_type": "stream",
     "text": [
      "b'{\"sub\":\"6c2887da-a213-462e-a10c-fcb94e066dc9\",\"aud\":\"07ae5fb1-ea68-4da0-9574-ea6978ead834\",\"jti\":\"3bd9ec08-a159-4e7d-9e5f-a9ef2f5bb0b8\",\"exp\":1643712934,\"name\":\" \",\"email\":\"johann.desloires@inrae.fr\",\"given_name\":\"\",\"family_name\":\"\",\"sid\":\"e79e4f71-3649-4c29-af01-83fe1122789d\",\"org\":\"3d31397f-770a-4f98-9358-84e918491745\",\"did\":1,\"aid\":\"8f176e67-7f79-41d7-afae-901872621c07\",\"d\":{\"1\":{\"ra\":{\"rag\":7},\"t\":14001}},\"active\":true}'\n",
      "7802e29a-cf4e-49bb-8c31-1977db377682\n",
      "1.4870982763449545\n",
      "CREATED\n"
     ]
    }
   ],
   "source": [
    "#You can access to all the meta data in results.\n",
    "len(results['features'])"
   ]
  },
  {
   "cell_type": "code",
   "execution_count": 102,
   "id": "1ebb6d8a-c7aa-4f61-8819-53bbb16eeeef",
   "metadata": {},
   "outputs": [
    {
     "data": {
      "text/plain": [
       "24"
      ]
     },
     "execution_count": 102,
     "metadata": {},
     "output_type": "execute_result"
    }
   ],
   "source": [
    "#Check the status of the order. Image will not be available \n",
    "collection_id = download_workflow.confirm_order(order_id)"
   ]
  },
  {
   "cell_type": "code",
   "execution_count": null,
   "id": "4fbe6346-4277-4be4-a25a-85f13b060d73",
   "metadata": {},
   "outputs": [],
   "source": [
    "#While the statut is \"RUNNING\", you should wait that you data is ingested in your SH account. The output of this cell must be \"DONE\" before your get access to the data (~ 2-5 minutes)\n",
    "download_workflow.check_status(order_id)"
   ]
  },
  {
   "cell_type": "code",
   "execution_count": 163,
   "id": "92e56cf3-07cd-417a-ad00-7161f1e0fa6f",
   "metadata": {},
   "outputs": [
    {
     "name": "stdout",
     "output_type": "stream",
     "text": [
      "b'{\"sub\":\"6c2887da-a213-462e-a10c-fcb94e066dc9\",\"aud\":\"07ae5fb1-ea68-4da0-9574-ea6978ead834\",\"jti\":\"ccfeacfe-22bd-4850-993c-36d404ceb598\",\"exp\":1643717245,\"name\":\" \",\"email\":\"johann.desloires@inrae.fr\",\"given_name\":\"\",\"family_name\":\"\",\"sid\":\"4127fd5e-26d0-43bf-8280-cceff506c6d4\",\"org\":\"3d31397f-770a-4f98-9358-84e918491745\",\"did\":1,\"aid\":\"8f176e67-7f79-41d7-afae-901872621c07\",\"d\":{\"1\":{\"ra\":{\"rag\":7},\"t\":14001}},\"active\":true}'\n"
     ]
    },
    {
     "data": {
      "text/plain": [
       "'DONE'"
      ]
     },
     "execution_count": 163,
     "metadata": {},
     "output_type": "execute_result"
    }
   ],
   "source": [
    "eopatch_planet = download_workflow.get_data(order_id = order_id,\n",
    "                                            collection_id = collection_id,\n",
    "                                            provider = provider_planet,\n",
    "                                            resolution = 3)"
   ]
  },
  {
   "cell_type": "code",
   "execution_count": 134,
   "id": "8abef4fe-dcf7-46f1-b0ed-2da4ea4db777",
   "metadata": {},
   "outputs": [],
   "source": [
    "#Reset the download_workflow if you would like to launch new orders. It is a way to prevent to download multiple times the same image and consume credits.\n",
    "download_workflow.reset_workflow()"
   ]
  },
  {
   "cell_type": "code",
   "execution_count": null,
   "id": "fb721590-2df1-4d97-8603-e2cd4b3ed8eb",
   "metadata": {},
   "outputs": [],
   "source": [
    "plt.figure(figsize=(5, 5))\n",
    "plt.imshow(np.clip(eopatch_planet['data']['BANDS'][..., [2, 1, 0]][7,], 0, 1));\n",
    "plt.axis(False);\n",
    "plt.show()"
   ]
  },
  {
   "cell_type": "code",
   "execution_count": 148,
   "id": "bfef88ed-ab7d-4c68-ac12-0e02921ad578",
   "metadata": {},
   "outputs": [
    {
     "data": {
      "image/png": "[encoded data removed]",
      "text/plain": [
       "<Figure size 360x360 with 1 Axes>"
      ]
     },
     "metadata": {
      "needs_background": "light"
     },
     "output_type": "display_data"
    }
   ],
   "source": [
    "#LAI Time Series from masked field\n",
    "variable = 'NDVI'\n",
    "stats_df = preprocessing.get_time_series_profile(patch = eopatch_planet, \n",
    "                                                 variable = variable, \n",
    "                                                 mask_name = 'MASK', \n",
    "                                                 function = np.nanmean)\n",
    "\n",
    "plt.plot(eopatch_planet.timestamp, stats_df[variable])\n",
    "plt.xticks(rotation=90)\n",
    "plt.show()"
   ]
  },
  {
   "cell_type": "code",
   "execution_count": 142,
   "id": "35ec81f8-30b8-4389-880f-9f1dda0e04fe",
   "metadata": {},
   "outputs": [
    {
     "data": {
      "image/png": "[encoded data removed]",
      "text/plain": [
       "<Figure size 432x288 with 1 Axes>"
      ]
     },
     "metadata": {
      "needs_background": "light"
     },
     "output_type": "display_data"
    }
   ],
   "source": [
    "time_peak = np.nanargmax(stats_df[variable])\n",
    "plt.figure(figsize=(5, 5))\n",
    "plt.imshow(eopatch_planet.data['NDVI'][time_peak,].astype(float))\n",
    "plt.colorbar()\n",
    "plt.axis(False);\n",
    "plt.show()"
   ]
  },
  {
   "cell_type": "markdown",
   "id": "b37209c2-c43f-4ae0-b73c-b26ae34d7f36",
   "metadata": {
    "pycharm": {
     "name": "#%% md\n"
    }
   },
   "source": [
    "If you would like to save the EOPatch, you can \n",
    "- call the method .save (e.g. eopatch_spot.save(your_path)) from your EOPatch to save the corresponding npys\n",
    "- save .tif images using ExportToTiffTask from eo-learn https://eo-learn.readthedocs.io/en/latest/eolearn.io.local_io.html#eolearn.io.local_io.ExportToTiffTask"
   ]
  },
  {
   "cell_type": "markdown",
   "id": "4ab4a072-ba7b-44bf-ae99-61b5430ac322",
   "metadata": {},
   "source": [
    "### Extract AIRBUS SPOT data"
   ]
  },
  {
   "cell_type": "code",
   "id": "de10acec-05ac-456f-bc58-dc7470807db4",
   "metadata": {
    "pycharm": {
     "name": "#%%\n"
    }
   },
   "source": [
    "#Define the provider as follows for Planetscope\n",
    "provider_spot = ('AIRBUS', 'SPOT')\n",
    "#can be also be retrieved in your SH account in https://apps.sentinel-hub.com/dashboard/#/tpdi\n",
    "order_id_spot, collection_id_spot = '222331e9-d8d3-4e2f-959c-e292a665b214', '6458a2f4-70fb-4986-bb90-1b3aeaeaca25'"
   ],
   "execution_count": null,
   "outputs": []
  },
  {
   "cell_type": "code",
   "execution_count": 165,
   "id": "0af89767-d810-4f42-bad0-f9c9ec97de3a",
   "metadata": {},
   "outputs": [],
   "source": [
    "#Define the workflow to get your order_id and meta data.  \n",
    "order_id_spot, results_spot = download_workflow.execute_query(provider_spot, name_query='example spot')"
   ]
  },
  {
   "cell_type": "code",
   "execution_count": 118,
   "id": "46d557aa-1f4f-4e7b-8ac2-f131402728a2",
   "metadata": {
    "pycharm": {
     "name": "#%%\n"
    }
   },
   "outputs": [
    {
     "name": "stdout",
     "output_type": "stream",
     "text": [
      "b'{\"sub\":\"6c2887da-a213-462e-a10c-fcb94e066dc9\",\"aud\":\"07ae5fb1-ea68-4da0-9574-ea6978ead834\",\"jti\":\"6bb838ab-4015-4091-8522-193491e5823f\",\"exp\":1643712725,\"name\":\" \",\"email\":\"johann.desloires@inrae.fr\",\"given_name\":\"\",\"family_name\":\"\",\"sid\":\"40ae4dbc-b655-454e-bdf3-13202b360bf6\",\"org\":\"3d31397f-770a-4f98-9358-84e918491745\",\"did\":1,\"aid\":\"8f176e67-7f79-41d7-afae-901872621c07\",\"d\":{\"1\":{\"ra\":{\"rag\":7},\"t\":14001}},\"active\":true}'\n",
      "cbd4ae1e-e9a4-4838-add5-7ac99a1f2bd6\n",
      "2.5\n",
      "CREATED\n"
     ]
    }
   ],
   "source": [
    "collection_id_spot = download_workflow.confirm_order(order_id_spot)"
   ]
  },
  {
   "cell_type": "code",
   "execution_count": 120,
   "id": "bd0f45f3-c648-4786-a207-719cd6e62f87",
   "metadata": {},
   "outputs": [
    {
     "name": "stdout",
     "output_type": "stream",
     "text": [
      "RUNNING\n"
     ]
    }
   ],
   "source": [
    "#While the statut is \"RUNNING\", you should wait that you data is ingested in your SH account. The output of this cell must be \"DONE\" before your get access to the data (~ 2-5 minutes)\n",
    "download_workflow.check_status(order_id_spot)"
   ]
  },
  {
   "cell_type": "code",
   "execution_count": 161,
   "id": "1887644a-1dc8-4dca-95e8-8da5608ba4c7",
   "metadata": {},
   "outputs": [
    {
     "name": "stdout",
     "output_type": "stream",
     "text": [
      "b'{\"sub\":\"6c2887da-a213-462e-a10c-fcb94e066dc9\",\"aud\":\"07ae5fb1-ea68-4da0-9574-ea6978ead834\",\"jti\":\"41f1d0ad-5272-4409-a1d7-945c4760846f\",\"exp\":1643717125,\"name\":\" \",\"email\":\"johann.desloires@inrae.fr\",\"given_name\":\"\",\"family_name\":\"\",\"sid\":\"2209ace6-eaa2-497d-aa6c-1f2a72db3a5d\",\"org\":\"3d31397f-770a-4f98-9358-84e918491745\",\"did\":1,\"aid\":\"8f176e67-7f79-41d7-afae-901872621c07\",\"d\":{\"1\":{\"ra\":{\"rag\":7},\"t\":14001}},\"active\":true}'\n"
     ]
    },
    {
     "data": {
      "text/plain": [
       "'RUNNING'"
      ]
     },
     "execution_count": 161,
     "metadata": {},
     "output_type": "execute_result"
    }
   ],
   "source": [
    "#Apply pansharpenning method to project native bands (VIS + NIR) at 6m into the panchromatic resolution (1.5). You need to have OrfeoToolbox installed in your computer, available for free on https://www.orfeo-toolbox.org/CookBook/Installation.html.\n",
    "eopatch_spot = download_workflow.get_data(order_id = order_id_spot,\n",
    "                                          collection_id = collection_id_spot,\n",
    "                                          provider = provider_spot,\n",
    "                                          resolution = 1.5,\n",
    "                                          pansharpen = True,\n",
    "                                          otb_path='/home/s999379/git-repo/OTB-7.4.0-Linux64/bin')"
   ]
  },
  {
   "cell_type": "code",
   "execution_count": 166,
   "id": "f4d356f1-4e7a-48c3-8d27-f74616602719",
   "metadata": {},
   "outputs": [],
   "source": [
    "#Reset the download_workflow method if you would like to execute new queries. \n",
    "# t is a way to prevent to download multiple times the same image and consume credits for nothing.\n",
    "download_workflow.reset_workflow()"
   ]
  },
  {
   "cell_type": "code",
   "execution_count": null,
   "id": "82966531-5930-410f-958e-f7ae4bdf1ad6",
   "metadata": {},
   "outputs": [],
   "source": [
    "eopatch_spot.timestamp "
   ]
  },
  {
   "cell_type": "code",
   "execution_count": 168,
   "id": "ca6d8434-36f3-425a-ba22-f4f664affd52",
   "metadata": {},
   "outputs": [
    {
     "data": {
      "text/plain": [
       "[datetime.datetime(2020, 4, 15, 10, 55, 52, 100000),\n",
       " datetime.datetime(2020, 5, 18, 10, 52, 42, 100000),\n",
       " datetime.datetime(2020, 6, 6, 10, 54, 50, 200000)]"
      ]
     },
     "execution_count": 168,
     "metadata": {},
     "output_type": "execute_result"
    }
   ],
   "source": [
    "plt.figure(figsize=(5, 5))\n",
    "plt.imshow(np.clip(eopatch_spot['data']['BANDS'][..., [2, 1, 0]][1,], 0, 1));\n",
    "plt.axis(False);\n",
    "plt.show()\n"
   ]
  },
  {
   "cell_type": "code",
   "execution_count": 188,
   "id": "a00fd087-3d60-4206-9edc-456a92da30b8",
   "metadata": {},
   "outputs": [
    {
     "data": {
      "image/png": "[encoded data removed]",
      "text/plain": [
       "<Figure size 360x360 with 1 Axes>"
      ]
     },
     "metadata": {
      "needs_background": "light"
     },
     "output_type": "display_data"
    }
   ],
   "source": [
    "plt.figure(figsize=(5, 5))\n",
    "plt.imshow(eopatch_spot.data['NDVI'][1,].astype(float), vmax = 0.88)\n",
    "plt.colorbar()\n",
    "plt.axis(False);\n",
    "plt.show()"
   ]
  },
  {
   "cell_type": "markdown",
   "id": "d589e21b-71a7-4076-a70c-dfe5835e02e1",
   "metadata": {
    "pycharm": {
     "name": "#%% md\n"
    }
   },
   "source": [
    "If you would like to save the EOPatch, you can \n",
    "- call the method .save (e.g. eopatch_spot.save(your_path)) from your EOPatch to save the corresponding npys\n",
    " - save .tif images using ExportToTiffTask from eo-learn https://eo-learn.readthedocs.io/en/latest/eolearn.io.local_io.html#eolearn.io.local_io.ExportToTiffTask"
   ]
  },
  {
   "cell_type": "markdown",
   "id": "014fec5d-3a5c-444d-a689-c7299f16c3f5",
   "metadata": {},
   "source": [
    "### Extract AIRBUS Pleaides data"
   ]
  },
  {
   "cell_type": "markdown",
   "id": "4bf03692-670f-4fe3-9bfc-4e852bf2146c",
   "metadata": {
    "pycharm": {
     "name": "#%% md\n"
    }
   },
   "source": [
    "Airbus Pleiades have a Panchromatic band at 0.5m and VIS-NIR at 1.5m. On SH, the price is roughly 10€ for 1km2 of order, with a minimal order of 0.25km2 (2€50)."
   ]
  },
  {
   "cell_type": "code",
   "id": "9bae7137-7061-42d1-8298-3e16a9cd8dc8",
   "metadata": {
    "pycharm": {
     "name": "#%%\n"
    }
   },
   "source": [
    "#Define the provider as follows for Planetscope\n",
    "provider_pleaides = ('AIRBUS', 'PHR')\n",
    "#In case, you can use as follows to run the example instead of ordering again data to avoid to run the order and consume credits for nothing\n",
    "order_id_pleiades, collection_id_pleaides = 'e7f5c398-0d23-4f9d-a6a8-03b2b0632554', '9eb3a890-7984-46bb-970d-db30ad5a4209'"
   ],
   "execution_count": null,
   "outputs": []
  },
  {
   "cell_type": "code",
   "execution_count": 174,
   "id": "f9890bf5-ad4c-47e1-9a8a-b13f8b15026c",
   "metadata": {},
   "outputs": [],
   "source": [
    "#Define the workflow to get your order_id and collection_id. It can be also be retrieved in your SH account in https://apps.sentinel-hub.com/dashboard/#/tpdi\n",
    "order_id_pleiades, results_pleiades = download_workflow.execute_query(provider_pleaides, name_query='example pleaides')"
   ]
  },
  {
   "cell_type": "code",
   "execution_count": 154,
   "id": "67699b0c-0e4e-4989-8f3a-f3592b6f3968",
   "metadata": {},
   "outputs": [
    {
     "name": "stdout",
     "output_type": "stream",
     "text": [
      "b'{\"sub\":\"6c2887da-a213-462e-a10c-fcb94e066dc9\",\"aud\":\"07ae5fb1-ea68-4da0-9574-ea6978ead834\",\"jti\":\"dbf7ea0f-6f74-4e6d-ae03-1b5455a6034c\",\"exp\":1643715904,\"name\":\" \",\"email\":\"johann.desloires@inrae.fr\",\"given_name\":\"\",\"family_name\":\"\",\"sid\":\"b49cfd00-51a0-45f9-91a3-6707bf5fe210\",\"org\":\"3d31397f-770a-4f98-9358-84e918491745\",\"did\":1,\"aid\":\"8f176e67-7f79-41d7-afae-901872621c07\",\"d\":{\"1\":{\"ra\":{\"rag\":7},\"t\":14001}},\"active\":true}'\n",
      "e7f5c398-0d23-4f9d-a6a8-03b2b0632554\n",
      "0.25\n",
      "CREATED\n"
     ]
    }
   ],
   "source": [
    "collection_id_pleaides = download_workflow.confirm_order(order_id_pleiades)"
   ]
  },
  {
   "cell_type": "code",
   "execution_count": 155,
   "id": "5a11b30b-d13e-4d8b-b553-63ae9d1768e0",
   "metadata": {
    "pycharm": {
     "name": "#%%\n"
    }
   },
   "outputs": [
    {
     "name": "stdout",
     "output_type": "stream",
     "text": [
      "RUNNING\n"
     ]
    }
   ],
   "source": [
    "#While the statut is \"RUNNING\", you should wait that you data is ingested in your SH account. The output of this cell must be \"DONE\" before your get access to the data (~ 2-5 minutes)\n",
    "download_workflow.check_status( order_id_pleiades)\n"
   ]
  },
  {
   "cell_type": "code",
   "execution_count": 160,
   "id": "5f119d2f-7f01-4863-b694-c37393884ae1",
   "metadata": {
    "pycharm": {
     "name": "#%%\n"
    }
   },
   "outputs": [
    {
     "name": "stdout",
     "output_type": "stream",
     "text": [
      "b'{\"sub\":\"6c2887da-a213-462e-a10c-fcb94e066dc9\",\"aud\":\"07ae5fb1-ea68-4da0-9574-ea6978ead834\",\"jti\":\"2eaec86d-af61-4b97-8b5c-dcced894e3b3\",\"exp\":1643717164,\"name\":\" \",\"email\":\"johann.desloires@inrae.fr\",\"given_name\":\"\",\"family_name\":\"\",\"sid\":\"c86af45c-7440-47c8-b819-584ca6ef0b57\",\"org\":\"3d31397f-770a-4f98-9358-84e918491745\",\"did\":1,\"aid\":\"8f176e67-7f79-41d7-afae-901872621c07\",\"d\":{\"1\":{\"ra\":{\"rag\":7},\"t\":14001}},\"active\":true}'\n"
     ]
    },
    {
     "data": {
      "text/plain": [
       "'RUNNING'"
      ]
     },
     "execution_count": 162,
     "metadata": {},
     "output_type": "execute_result"
    }
   ],
   "source": [
    "#Apply pansharpenning method to project native bands (VIS + NIR) at 6m into the panchromatic resolution (1.5). You need to have OrfeoToolbox installed in your computer, available for free on https://www.orfeo-toolbox.org/CookBook/Installation.html.\n",
    "eopatch_pleaides = download_workflow.get_data(order_id = order_id_pleiades,\n",
    "                                          collection_id = collection_id_pleaides,\n",
    "                                          provider = provider_pleaides,\n",
    "                                          resolution = 0.5,\n",
    "                                          pansharpen = True, #Apply pansharpenning method to project native bands (VIS + NIR) at 1.5m into the panchromatic resolution (0.5). You need to have OrfeoToolbox installed in your computer, available for free on https://www.orfeo-toolbox.org/CookBook/Installation.html.\n",
    "                                          otb_path='/home/s999379/git-repo/OTB-7.4.0-Linux64/bin')"
   ]
  },
  {
   "cell_type": "code",
   "execution_count": 175,
   "id": "adff8240-4e90-4427-ab4c-3c1b9c4d8ff4",
   "metadata": {},
   "outputs": [],
   "source": [
    "eopatch_pleaides.timestamp"
   ]
  },
  {
   "cell_type": "code",
   "execution_count": 187,
   "id": "0e3c0377-4a6e-474c-b93e-15d3e4df5d95",
   "metadata": {},
   "outputs": [
    {
     "data": {
      "text/plain": [
       "[datetime.datetime(2020, 6, 6, 11, 21, 32, 600000)]"
      ]
     },
     "execution_count": 187,
     "metadata": {},
     "output_type": "execute_result"
    }
   ],
   "source": [
    "plt.figure(figsize=(5, 5))\n",
    "plt.imshow(np.clip(eopatch_pleaides['data']['BANDS'][..., [2, 1, 0]][0,], 0, 1));\n",
    "plt.axis(False);\n",
    "plt.show()\n"
   ]
  },
  {
   "cell_type": "code",
   "execution_count": 178,
   "id": "1bd9865f-37b0-4397-9a30-6bdc60338c5f",
   "metadata": {},
   "outputs": [
    {
     "data": {
      "image/png": "[encoded data removed]",
      "text/plain": [
       "<Figure size 360x360 with 1 Axes>"
      ]
     },
     "metadata": {
      "needs_background": "light"
     },
     "output_type": "display_data"
    }
   ],
   "source": [
    "plt.figure(figsize=(5, 5))\n",
    "plt.imshow(np.clip(eopatch_pleaides['data']['BANDS-PAN'][..., [2, 1, 0]][0,], 0, 1));\n",
    "plt.axis(False);\n",
    "plt.show()"
   ]
  },
  {
   "cell_type": "code",
   "execution_count": 179,
   "id": "3d18234b-b676-4a43-9ad6-35887cce5c8b",
   "metadata": {},
   "outputs": [
    {
     "data": {
      "image/png": "[encoded data removed]",
      "text/plain": [
       "<Figure size 360x360 with 1 Axes>"
      ]
     },
     "metadata": {
      "needs_background": "light"
     },
     "output_type": "display_data"
    }
   ],
   "source": [
    "plt.figure(figsize=(5, 5))\n",
    "plt.imshow(eopatch_pleaides.data['NDVI'][0,].astype(float),vmin = 0.2, vmax = 0.9)\n",
    "plt.colorbar()\n",
    "plt.axis(False);\n",
    "plt.show()"
   ]
  },
  {
   "cell_type": "markdown",
   "id": "d78551f1-d299-4e9e-af30-2c15e09c887c",
   "metadata": {
    "pycharm": {
     "name": "#%% md\n"
    }
   },
   "source": [
    "If you would like to save the EOPatch, you can \n",
    "- call the method .save (e.g. eopatch_spot.save(your_path)) from your EOPatch to save the corresponding npys\n",
    "- save .tif images using ExportToTiffTask from eo-learn https://eo-learn.readthedocs.io/en/latest/eolearn.io.local_io.html#eolearn.io.local_io.ExportToTiffTask"
   ]
  }
 ],
 "metadata": {
  "kernelspec": {
   "display_name": "eo-crops",
   "language": "python",
   "name": "eo-crops"
  },
  "language_info": {
   "codemirror_mode": {
    "name": "ipython",
    "version": 3
   },
   "file_extension": ".py",
   "mimetype": "text/x-python",
   "name": "python",
   "nbconvert_exporter": "python",
   "pygments_lexer": "ipython3",
   "version": "3.7.12"
  }
 },
 "nbformat": 4,
 "nbformat_minor": 5
}