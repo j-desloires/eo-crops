{
 "cells": [
  {
   "cell_type": "markdown",
   "id": "f564c861",
   "metadata": {
    "pycharm": {
     "name": "#%% md\n"
    }
   },
   "source": [
    "# Third party commercial data"
   ]
  },
  {
   "cell_type": "markdown",
   "id": "5a894133",
   "metadata": {
    "pycharm": {
     "name": "#%% md\n"
    }
   },
   "source": [
    "The aim of this notebook is to guide you how to get Very High Resolution Satellite (VHRS) data using Sentinelhub and eo-learn. Price for commercial data is described there https://www.sentinel-hub.com/pricing/.\n",
    "\n",
    "The workflow for agriculture purposes is as follows :\n",
    "\n",
    "1) Read shapefile that represent you field (boundaries or microplots)\n",
    "\n",
    "2) Extract Sentinel-2 data and compute averaged NDVI time series to get a summary of the season vegetation dynamic.\n",
    "\n",
    "3) Get the index of time when NDVI is maximum (season's peak) and add +/- one month to this date to get the time period for VHRS data extraction.\n",
    "\n",
    "4) Extract VHRS data. If provider is Airbus, you can apply pansharpening algorithms to get the spatial resolution from the panchromatic band.\n",
    "\n",
    "5) Preprocess and save the data.\n",
    "\n",
    "6) Optional : intersects pixels with trial microplots polygons to get a value of NDVI for each microplot."
   ]
  },
  {
   "cell_type": "markdown",
   "id": "f4e10161",
   "metadata": {
    "pycharm": {
     "name": "#%% md\n"
    }
   },
   "source": [
    "## Set your working environment"
   ]
  },
  {
   "cell_type": "markdown",
   "id": "2f988e1d",
   "metadata": {
    "pycharm": {
     "name": "#%% md\n"
    }
   },
   "source": [
    "### Import the packages"
   ]
  },
  {
   "cell_type": "code",
   "execution_count": null,
   "id": "0b155914",
   "metadata": {
    "pycharm": {
     "name": "#%%\n"
    }
   },
   "outputs": [],
   "source": [
    "import warnings\n",
    "warnings.filterwarnings(\"ignore\")\n",
    "\n",
    "import glob\n",
    "import os\n",
    "\n",
    "import geopandas as gpd\n",
    "import numpy as np\n",
    "import matplotlib.pyplot as plt\n",
    "\n",
    "from importlib import reload\n",
    "\n",
    "from eocrops.input import utils_sh as utils_sh\n",
    "from eocrops.input import sentinel2 as sentinel2\n",
    "from eocrops.input import vhrs as vhrs\n",
    "from eocrops.tasks import preprocessing as preprocessing"
   ]
  },
  {
   "cell_type": "markdown",
   "id": "dca58e15",
   "metadata": {
    "pycharm": {
     "name": "#%% md\n"
    }
   },
   "source": [
    "### Read your vector file"
   ]
  },
  {
   "cell_type": "code",
   "execution_count": null,
   "id": "1a695f40",
   "metadata": {
    "pycharm": {
     "name": "#%%\n"
    }
   },
   "outputs": [],
   "source": [
    "dir_path = os.path.dirname(os.getcwd())\n",
    "print(dir_path)\n",
    "#read microplot data\n",
    "shapefile_input = gpd.read_file(os.path.join(dir_path, './examples/layers/POLYGON.shp'))\n"
   ]
  },
  {
   "cell_type": "code",
   "execution_count": null,
   "id": "e17bf6ed",
   "metadata": {
    "pycharm": {
     "name": "#%%\n"
    }
   },
   "outputs": [],
   "source": [
    "api =''\n",
    "client_id =''\n",
    "client_secret =''\n",
    "config = utils_sh.config_sentinelhub_cred(api, client_id, client_secret)\n",
    "#Provide here your planet API key \n",
    "config.planet_key = ''"
   ]
  },
  {
   "cell_type": "markdown",
   "id": "82604180",
   "metadata": {
    "pycharm": {
     "name": "#%% md\n"
    }
   },
   "source": [
    "### Extract S2 data"
   ]
  },
  {
   "cell_type": "code",
   "execution_count": null,
   "id": "294361fe",
   "metadata": {
    "pycharm": {
     "name": "#%%\n"
    }
   },
   "outputs": [],
   "source": [
    "time_period = ('2020-02-01', '2020-10-30')\n",
    "kwargs = dict(polygon=shapefile_input,\n",
    "              time_stamp=time_period,\n",
    "              config=config)"
   ]
  },
  {
   "cell_type": "code",
   "execution_count": null,
   "id": "1f12b506",
   "metadata": {
    "pycharm": {
     "name": "#%%\n"
    }
   },
   "outputs": [],
   "source": [
    "patch = sentinel2.workflow_instructions_S2L2A(**kwargs,\n",
    "                                              coverage_predicate=0.5,\n",
    "                                              interpolation={'interpolate' : True,\n",
    "                                                             'period_length' : 8})  # you can add period_length in the dictionary to resample\n"
   ]
  },
  {
   "cell_type": "code",
   "execution_count": null,
   "id": "5034136f",
   "metadata": {
    "pycharm": {
     "name": "#%%\n"
    }
   },
   "outputs": [],
   "source": [
    "#RGB\n",
    "plt.figure(figsize=(5, 5))\n",
    "plt.imshow(np.clip(patch.data['BANDS-S2-L2A'][15][..., [2, 1, 0]]*2.5, 0, 1), vmin=0, vmax=1);\n",
    "plt.axis(False);\n",
    "plt.show()"
   ]
  },
  {
   "cell_type": "code",
   "execution_count": null,
   "id": "b0584e33",
   "metadata": {
    "pycharm": {
     "name": "#%%\n"
    }
   },
   "outputs": [],
   "source": [
    "preprocessing = reload(preprocessing)\n",
    "#Mask out pixels that are oustide the polygon for visualisation and apply a binary erosion with radius = 1 to keep only pure pixels\n",
    "masking = preprocessing.MaskPixels([\"NDVI\"])\n",
    "patch = masking.execute(patch, erosion = 1)"
   ]
  },
  {
   "cell_type": "code",
   "execution_count": null,
   "id": "6c812721",
   "metadata": {
    "pycharm": {
     "name": "#%%\n"
    }
   },
   "outputs": [],
   "source": [
    "#NDVI\n",
    "plt.figure(figsize=(5, 5))\n",
    "plt.imshow(patch.data['NDVI'][15].squeeze());\n",
    "plt.axis(False);\n",
    "plt.show()"
   ]
  },
  {
   "cell_type": "code",
   "execution_count": null,
   "id": "b869cbb1",
   "metadata": {
    "pycharm": {
     "name": "#%%\n"
    }
   },
   "outputs": [],
   "source": [
    "#LAI Time Series from masked field\n",
    "variable = 'NDVI'\n",
    "\n",
    "stats_df = preprocessing.get_time_series_profile(feature_array = patch.data[variable],\n",
    "                                                 crop_mask = patch.mask_timeless['MASK'],\n",
    "                                                 function=np.nanmedian)\n",
    "\n",
    "plt.plot(patch.timestamp, stats_df)\n",
    "plt.xticks(rotation=90)\n",
    "plt.show()"
   ]
  },
  {
   "cell_type": "code",
   "execution_count": null,
   "id": "926583fd",
   "metadata": {
    "pycharm": {
     "name": "#%%\n"
    }
   },
   "outputs": [],
   "source": [
    "#Peak of the season is at 15/05 \n",
    "time_max_index = np.nanargmax(stats_df)\n",
    "patch.timestamp[np.nanargmax(stats_df)]"
   ]
  },
  {
   "cell_type": "code",
   "execution_count": null,
   "id": "8f80db4e",
   "metadata": {
    "pycharm": {
     "name": "#%%\n"
    }
   },
   "outputs": [],
   "source": [
    "#If oyu would like to save the data in .tif format (e.g. NDVI on the first date)\n",
    "from eolearn.io.local_io import ExportToTiffTask\n",
    "index_time = 0\n",
    "date = str(patch.timestamp[index_time]).split(' ')[0]\n",
    "\n",
    "export = ExportToTiffTask(feature='NDVI',\n",
    "                          folder=os.path.join('your_path_'+ date),\n",
    "                          band_indices=[0],\n",
    "                          date_indices=[index_time])\n",
    "patch = export.execute(patch)"
   ]
  },
  {
   "cell_type": "markdown",
   "id": "20388146",
   "metadata": {
    "pycharm": {
     "name": "#%% md\n"
    }
   },
   "source": [
    "## VHRS data"
   ]
  },
  {
   "cell_type": "code",
   "execution_count": null,
   "id": "04ac76a8",
   "metadata": {
    "pycharm": {
     "name": "#%%\n"
    }
   },
   "outputs": [],
   "source": [
    "#Define the time period\n",
    "time_period_vhrs = ('2020-04-15', '2020-06-15')\n",
    "#Define the workflow\n",
    "download_workflow = vhrs.DownloadVHRSSentinelHub(shapefile=shapefile_input,\n",
    "                                                 time_stamp = time_period_vhrs,\n",
    "                                                 config = config,\n",
    "                                                 maxCloudCoverage=10)"
   ]
  },
  {
   "cell_type": "markdown",
   "id": "ff83a5e4",
   "metadata": {
    "pycharm": {
     "name": "#%% md\n"
    }
   },
   "source": [
    "### Extract Planetscope data"
   ]
  },
  {
   "cell_type": "markdown",
   "id": "974b486e",
   "metadata": {
    "pycharm": {
     "name": "#%% md\n"
    }
   },
   "source": [
    "You can retrieve order id and collection ID on your SH account (https://apps.sentinel-hub.com/dashboard/#/tpdi) \n",
    "\n",
    "Instead of doing a request again, you can go directly on *download_workflow.get_data* using the following ids :\n",
    "\n",
    "**order_id** = '2f900fad-1f5e-4a46-b6da-327012d400e1'\n",
    "\n",
    "**collection_id** = '79a1a2a9-ccf8-4e1f-8f42-9d854bf1dca9'"
   ]
  },
  {
   "cell_type": "code",
   "execution_count": null,
   "id": "4cb2e048",
   "metadata": {
    "pycharm": {
     "name": "#%%\n"
    }
   },
   "outputs": [],
   "source": [
    "#Define the provider as follows for Planetscope\n",
    "provider_planet = ('PLANET', 'PSScene4Band')"
   ]
  },
  {
   "cell_type": "code",
   "execution_count": null,
   "id": "f8246811",
   "metadata": {
    "pycharm": {
     "name": "#%%\n"
    }
   },
   "outputs": [],
   "source": [
    "#Define the workflow to get your order_id and collection_id. It can be also be retrieved in your SH account in https://apps.sentinel-hub.com/dashboard/#/tpdi\n",
    "order_id, results = download_workflow.execute_query(provider_planet, name_query='Example Planet')"
   ]
  },
  {
   "cell_type": "code",
   "execution_count": null,
   "id": "8c19d2aa",
   "metadata": {
    "pycharm": {
     "name": "#%%\n"
    }
   },
   "outputs": [],
   "source": [
    "#You can access to all the meta data in results.\n",
    "len(results['features'])"
   ]
  },
  {
   "cell_type": "code",
   "execution_count": null,
   "id": "f435d2ad",
   "metadata": {
    "pycharm": {
     "name": "#%%\n"
    }
   },
   "outputs": [],
   "source": [
    "#Check the status of the order. Image will not be available \n",
    "collection_id = download_workflow.confirm_order(order_id)"
   ]
  },
  {
   "cell_type": "code",
   "execution_count": null,
   "id": "0bac7cab",
   "metadata": {
    "pycharm": {
     "name": "#%%\n"
    }
   },
   "outputs": [],
   "source": [
    "#While the statut is \"RUNNING\", you should wait that you data is ingested in your SH account. The output of this cell must be \"DONE\" before your get access to the data (~ 2-5 minutes)\n",
    "download_workflow.check_status(order_id)"
   ]
  },
  {
   "cell_type": "code",
   "execution_count": null,
   "id": "52ab8a3f",
   "metadata": {
    "pycharm": {
     "name": "#%%\n"
    }
   },
   "outputs": [],
   "source": [
    "#order_id = '2f900fad-1f5e-4a46-b6da-327012d400e1'\n",
    "#collection_id = '79a1a2a9-ccf8-4e1f-8f42-9d854bf1dca9'\n",
    "\n",
    "eopatch_planet = download_workflow.get_data(order_id = order_id,\n",
    "                                            collection_id = collection_id,\n",
    "                                            provider = provider_planet,\n",
    "                                            resolution = 3)"
   ]
  },
  {
   "cell_type": "code",
   "execution_count": null,
   "id": "b31542be",
   "metadata": {
    "pycharm": {
     "name": "#%%\n"
    }
   },
   "outputs": [],
   "source": [
    "#Reset the download_workflow if you would like to launch new orders. It is a way to prevent to download multiple times the same image and consume credits.\n",
    "download_workflow.reset_workflow()"
   ]
  },
  {
   "cell_type": "code",
   "execution_count": null,
   "id": "6d9f1d04",
   "metadata": {
    "pycharm": {
     "name": "#%%\n"
    }
   },
   "outputs": [],
   "source": [
    "plt.figure(figsize=(5, 5))\n",
    "plt.imshow(np.clip(eopatch_planet['data']['BANDS'][..., [2, 1, 0]][7,], 0, 1));\n",
    "plt.axis(False);\n",
    "plt.show()"
   ]
  },
  {
   "cell_type": "code",
   "execution_count": null,
   "id": "f8b3d85d",
   "metadata": {
    "pycharm": {
     "name": "#%%\n"
    }
   },
   "outputs": [],
   "source": [
    "#LAI Time Series from masked field\n",
    "variable = 'NDVI'\n",
    "\n",
    "stats_df = preprocessing.get_time_series_profile(feature_array = eopatch_planet.data[variable],\n",
    "                                                 crop_mask = eopatch_planet.mask_timeless['MASK'],\n",
    "                                                 function=np.nanmedian)\n",
    "\n",
    "plt.plot(eopatch_planet.timestamp, stats_df)\n",
    "plt.xticks(rotation=90)\n",
    "plt.show()"
   ]
  },
  {
   "cell_type": "code",
   "execution_count": null,
   "id": "7e381fb0",
   "metadata": {
    "pycharm": {
     "name": "#%%\n"
    }
   },
   "outputs": [],
   "source": [
    "time_peak = np.nanargmax(stats_df)\n",
    "plt.figure(figsize=(5, 5))\n",
    "plt.imshow(eopatch_planet.data['NDVI'][time_peak,].astype(float))\n",
    "plt.colorbar()\n",
    "plt.axis(False);\n",
    "plt.show()"
   ]
  },
  {
   "cell_type": "markdown",
   "id": "b22ce6af",
   "metadata": {
    "pycharm": {
     "name": "#%% md\n"
    }
   },
   "source": [
    "If you would like to save the EOPatch, you can \n",
    "- call the method .save (e.g. eopatch_spot.save(your_path)) from your EOPatch to save the corresponding npys\n",
    "- save .tif images using ExportToTiffTask from eo-learn https://eo-learn.readthedocs.io/en/latest/eolearn.io.local_io.html#eolearn.io.local_io.ExportToTiffTask"
   ]
  },
  {
   "cell_type": "code",
   "execution_count": null,
   "id": "43120ed1",
   "metadata": {
    "pycharm": {
     "name": "#%%\n"
    }
   },
   "outputs": [],
   "source": [
    "#If you would like to save the data in .tif format (e.g. NDVI on the first date)\n",
    "from eolearn.io.local_io import ExportToTiffTask\n",
    "index_time = 0\n",
    "date = str(eopatch_planet.timestamp[index_time]).split(' ')[0]\n",
    "\n",
    "export = ExportToTiffTask(feature='NDVI',\n",
    "                          folder=os.path.join('your_path_'+ date),\n",
    "                          band_indices=[0],\n",
    "                          date_indices=[index_time])\n",
    "export.execute(eopatch_planet)"
   ]
  },
  {
   "cell_type": "markdown",
   "id": "916f5473",
   "metadata": {
    "pycharm": {
     "name": "#%% md\n"
    }
   },
   "source": [
    "### Extract AIRBUS SPOT data"
   ]
  },
  {
   "cell_type": "code",
   "execution_count": null,
   "id": "434d6383",
   "metadata": {
    "pycharm": {
     "name": "#%%\n"
    }
   },
   "outputs": [],
   "source": [
    "#Define the provider as follows for Planetscope\n",
    "provider_spot = ('AIRBUS', 'SPOT')\n",
    "#can be also be retrieved in your SH account in https://apps.sentinel-hub.com/dashboard/#/tpdi"
   ]
  },
  {
   "cell_type": "markdown",
   "id": "c1092c0c",
   "metadata": {
    "pycharm": {
     "name": "#%% md\n"
    }
   },
   "source": [
    "Instead of doing a request again, you can go directly on *download_workflow.get_data* using the following ids :\n",
    "\n",
    "**order_id_spot** = '222331e9-d8d3-4e2f-959c-e292a665b214'\n",
    "\n",
    "**collection_id_spot** = '6458a2f4-70fb-4986-bb90-1b3aeaeaca25'"
   ]
  },
  {
   "cell_type": "code",
   "execution_count": null,
   "id": "4a020238",
   "metadata": {
    "pycharm": {
     "name": "#%%\n"
    }
   },
   "outputs": [],
   "source": [
    "#Define the workflow to get your order_id and meta data.  \n",
    "order_id_spot, results_spot = download_workflow.execute_query(provider_spot, name_query='example spot')"
   ]
  },
  {
   "cell_type": "code",
   "execution_count": null,
   "id": "9e6c1824",
   "metadata": {
    "pycharm": {
     "name": "#%%\n"
    }
   },
   "outputs": [],
   "source": [
    "collection_id_spot = download_workflow.confirm_order(order_id_spot)"
   ]
  },
  {
   "cell_type": "code",
   "execution_count": null,
   "id": "34ed65b0",
   "metadata": {
    "pycharm": {
     "name": "#%%\n"
    }
   },
   "outputs": [],
   "source": [
    "#While the statut is \"RUNNING\", you should wait that you data is ingested in your SH account. The output of this cell must be \"DONE\" before your get access to the data (~ 2-5 minutes)\n",
    "download_workflow.check_status(order_id_spot)"
   ]
  },
  {
   "cell_type": "code",
   "execution_count": null,
   "id": "1dfea2e7",
   "metadata": {
    "pycharm": {
     "name": "#%%\n"
    }
   },
   "outputs": [],
   "source": [
    "#Apply pansharpenning method to project native bands (VIS + NIR) at 6m into the panchromatic resolution (1.5). You need to have OrfeoToolbox installed in your computer, available for free on https://www.orfeo-toolbox.org/CookBook/Installation.html.\n",
    "#order_id_spot, collection_id_spot = '222331e9-d8d3-4e2f-959c-e292a665b214', '6458a2f4-70fb-4986-bb90-1b3aeaeaca25'\n",
    "eopatch_spot = download_workflow.get_data(order_id = order_id_spot,\n",
    "                                          collection_id = collection_id_spot,\n",
    "                                          provider = provider_spot,\n",
    "                                          resolution = 1.5,\n",
    "                                          pansharpen = True,\n",
    "                                          otb_path='/home/s999379/git-repo/OTB-7.4.0-Linux64/bin')"
   ]
  },
  {
   "cell_type": "code",
   "execution_count": null,
   "id": "9e45f60b",
   "metadata": {
    "pycharm": {
     "name": "#%%\n"
    }
   },
   "outputs": [],
   "source": [
    "#Reset the download_workflow method if you would like to execute new queries. \n",
    "# t is a way to prevent to download multiple times the same image and consume credits for nothing.\n",
    "download_workflow.reset_workflow()"
   ]
  },
  {
   "cell_type": "code",
   "execution_count": null,
   "id": "7aa3df4d",
   "metadata": {
    "pycharm": {
     "name": "#%%\n"
    }
   },
   "outputs": [],
   "source": []
  },
  {
   "cell_type": "code",
   "execution_count": null,
   "id": "8cc20fe3",
   "metadata": {
    "pycharm": {
     "name": "#%%\n"
    }
   },
   "outputs": [],
   "source": [
    "plt.figure(figsize=(5, 5))\n",
    "plt.imshow(np.clip(eopatch_spot['data']['BANDS'][..., [2, 1, 0]][1,], 0, 1));\n",
    "plt.axis(False);\n",
    "plt.show()\n"
   ]
  },
  {
   "cell_type": "code",
   "execution_count": null,
   "id": "b81bdd5e",
   "metadata": {
    "pycharm": {
     "name": "#%%\n"
    }
   },
   "outputs": [],
   "source": [
    "plt.figure(figsize=(5, 5))\n",
    "plt.imshow(eopatch_spot.data['NDVI'][1,].astype(float), vmax = 0.88)\n",
    "plt.colorbar()\n",
    "plt.axis(False);\n",
    "plt.show()"
   ]
  },
  {
   "cell_type": "markdown",
   "id": "bf7b7c24",
   "metadata": {
    "pycharm": {
     "name": "#%% md\n"
    }
   },
   "source": [
    "If you would like to save the EOPatch, you can \n",
    "- call the method .save (e.g. eopatch_spot.save(your_path)) from your EOPatch to save the corresponding npys\n",
    " - save .tif images using ExportToTiffTask from eo-learn https://eo-learn.readthedocs.io/en/latest/eolearn.io.local_io.html#eolearn.io.local_io.ExportToTiffTask"
   ]
  },
  {
   "cell_type": "markdown",
   "id": "ed05b200",
   "metadata": {
    "pycharm": {
     "name": "#%% md\n"
    }
   },
   "source": [
    "### Extract AIRBUS Pleaides data"
   ]
  },
  {
   "cell_type": "markdown",
   "id": "9d0af543",
   "metadata": {
    "pycharm": {
     "name": "#%% md\n"
    }
   },
   "source": [
    "Airbus Pleiades have a Panchromatic band at 0.5m and VIS-NIR at 1.5m. On SH, the price is roughly 10€ for 1km2 of order, with a minimal order of 0.25km2 (2€50)."
   ]
  },
  {
   "cell_type": "code",
   "execution_count": null,
   "id": "3404967b",
   "metadata": {
    "pycharm": {
     "name": "#%%\n"
    }
   },
   "outputs": [],
   "source": [
    "#Define the provider as follows for Planetscope\n",
    "provider_pleaides = ('AIRBUS', 'PHR')"
   ]
  },
  {
   "cell_type": "markdown",
   "id": "6e16f39f",
   "metadata": {
    "pycharm": {
     "name": "#%% md\n"
    }
   },
   "source": [
    "Instead of doing a request again, you can go directly on *download_workflow.get_data* using the following ids :\n",
    "\n",
    "**order_id_pleiades** = 'e7f5c398-0d23-4f9d-a6a8-03b2b0632554'\n",
    "\n",
    "**collection_id_pleaides** = '9eb3a890-7984-46bb-970d-db30ad5a4209'"
   ]
  },
  {
   "cell_type": "markdown",
   "id": "0620dc8e",
   "metadata": {
    "pycharm": {
     "name": "#%% md\n"
    }
   },
   "source": [
    "collection_id_spot"
   ]
  },
  {
   "cell_type": "code",
   "execution_count": null,
   "id": "2e9894ec",
   "metadata": {
    "pycharm": {
     "name": "#%%\n"
    }
   },
   "outputs": [],
   "source": [
    "#Define the workflow to get your order_id and collection_id. It can be also be retrieved in your SH account in https://apps.sentinel-hub.com/dashboard/#/tpdi\n",
    "order_id_pleiades, results_pleiades = download_workflow.execute_query(provider_pleaides, name_query='example pleaides')"
   ]
  },
  {
   "cell_type": "code",
   "execution_count": null,
   "id": "83fbaecb",
   "metadata": {
    "pycharm": {
     "name": "#%%\n"
    }
   },
   "outputs": [],
   "source": [
    "collection_id_pleaides = download_workflow.confirm_order(order_id_pleiades)"
   ]
  },
  {
   "cell_type": "code",
   "execution_count": null,
   "id": "704771b7",
   "metadata": {
    "pycharm": {
     "name": "#%%\n"
    }
   },
   "outputs": [],
   "source": [
    "#While the statut is \"RUNNING\", you should wait that you data is ingested in your SH account. The output of this cell must be \"DONE\" before your get access to the data (~ 2-5 minutes)\n",
    "download_workflow.check_status( order_id_pleiades)\n"
   ]
  },
  {
   "cell_type": "code",
   "execution_count": null,
   "id": "e2669eff",
   "metadata": {
    "pycharm": {
     "name": "#%%\n"
    }
   },
   "outputs": [],
   "source": [
    "#Apply pansharpenning method to project native bands (VIS + NIR) at 6m into the panchromatic resolution (1.5). You need to have OrfeoToolbox installed in your computer, available for free on https://www.orfeo-toolbox.org/CookBook/Installation.html.\n",
    "#order_id_pleiades, collection_id_pleaides = 'e7f5c398-0d23-4f9d-a6a8-03b2b0632554', '9eb3a890-7984-46bb-970d-db30ad5a4209'\n",
    "eopatch_pleaides = download_workflow.get_data(order_id = order_id_pleiades,\n",
    "                                          collection_id = collection_id_pleaides,\n",
    "                                          provider = provider_pleaides,\n",
    "                                          resolution = 0.5,\n",
    "                                          pansharpen = False, #Apply pansharpenning method to project native bands (VIS + NIR) at 1.5m into the panchromatic resolution (0.5). You need to have OrfeoToolbox installed in your computer, available for free on https://www.orfeo-toolbox.org/CookBook/Installation.html.\n",
    "                                          otb_path='/home/s999379/git-repo/OTB-7.4.0-Linux64/bin')"
   ]
  },
  {
   "cell_type": "markdown",
   "id": "fb00803e",
   "metadata": {},
   "source": [
    "collection_id_spot"
   ]
  },
  {
   "cell_type": "code",
   "execution_count": 174,
   "id": "5d0cd2ed",
   "metadata": {
    "pycharm": {
     "name": "#%%\n"
    }
   },
   "outputs": [],
   "source": [
    "#Define the workflow to get your order_id and collection_id. It can be also be retrieved in your SH account in https://apps.sentinel-hub.com/dashboard/#/tpdi\n",
    "order_id_pleiades, results_pleiades = download_workflow.execute_query(provider_pleaides, name_query='example pleaides')"
   ]
  },
  {
   "cell_type": "code",
   "execution_count": 154,
   "id": "21ac816e",
   "metadata": {
    "pycharm": {
     "name": "#%%\n"
    }
   },
   "outputs": [
    {
     "name": "stdout",
     "output_type": "stream",
     "text": [
      "b'{\"sub\":\"6c2887da-a213-462e-a10c-fcb94e066dc9\",\"aud\":\"07ae5fb1-ea68-4da0-9574-ea6978ead834\",\"jti\":\"dbf7ea0f-6f74-4e6d-ae03-1b5455a6034c\",\"exp\":1643715904,\"name\":\" \",\"email\":\"johann.desloires@inrae.fr\",\"given_name\":\"\",\"family_name\":\"\",\"sid\":\"b49cfd00-51a0-45f9-91a3-6707bf5fe210\",\"org\":\"3d31397f-770a-4f98-9358-84e918491745\",\"did\":1,\"aid\":\"8f176e67-7f79-41d7-afae-901872621c07\",\"d\":{\"1\":{\"ra\":{\"rag\":7},\"t\":14001}},\"active\":true}'\n",
      "e7f5c398-0d23-4f9d-a6a8-03b2b0632554\n",
      "0.25\n",
      "CREATED\n"
     ]
    }
   ],
   "source": [
    "collection_id_pleaides = download_workflow.confirm_order(order_id_pleiades)"
   ]
  },
  {
   "cell_type": "code",
   "execution_count": 155,
   "id": "a6495500",
   "metadata": {
    "pycharm": {
     "name": "#%%\n"
    }
   },
   "outputs": [
    {
     "name": "stdout",
     "output_type": "stream",
     "text": [
      "RUNNING\n"
     ]
    }
   ],
   "source": [
    "#While the statut is \"RUNNING\", you should wait that you data is ingested in your SH account. The output of this cell must be \"DONE\" before your get access to the data (~ 2-5 minutes)\n",
    "download_workflow.check_status( order_id_pleiades)\n"
   ]
  },
  {
   "cell_type": "code",
   "execution_count": 19,
   "id": "5faa08bc",
   "metadata": {
    "pycharm": {
     "name": "#%%\n"
    }
   },
   "outputs": [],
   "source": [
    "#Apply pansharpenning method to project native bands (VIS + NIR) at 6m into the panchromatic resolution (1.5). You need to have OrfeoToolbox installed in your computer, available for free on https://www.orfeo-toolbox.org/CookBook/Installation.html.\n",
    "#order_id_pleiades, collection_id_pleaides = 'e7f5c398-0d23-4f9d-a6a8-03b2b0632554', '9eb3a890-7984-46bb-970d-db30ad5a4209'\n",
    "eopatch_pleaides = download_workflow.get_data(order_id = order_id_pleiades,\n",
    "                                          collection_id = collection_id_pleaides,\n",
    "                                          provider = provider_pleaides,\n",
    "                                          resolution = 0.5,\n",
    "                                          pansharpen = False, #Apply pansharpenning method to project native bands (VIS + NIR) at 1.5m into the panchromatic resolution (0.5). You need to have OrfeoToolbox installed in your computer, available for free on https://www.orfeo-toolbox.org/CookBook/Installation.html.\n",
    "                                          otb_path='/home/s999379/git-repo/OTB-7.4.0-Linux64/bin')"
   ]
  },
  {
   "cell_type": "code",
   "execution_count": 175,
   "id": "321b7737",
   "metadata": {
    "pycharm": {
     "name": "#%%\n"
    }
   },
   "outputs": [],
   "source": [
    "eopatch_pleaides.timestamp"
   ]
  },
  {
   "cell_type": "code",
   "execution_count": 20,
   "id": "b7f8592e",
   "metadata": {
    "pycharm": {
     "name": "#%%\n"
    }
   },
   "outputs": [
    {
     "name": "stderr",
     "output_type": "stream",
     "text": [
      "/home/johann/anaconda3/envs/eo-crops/lib/python3.7/site-packages/ipykernel/ipkernel.py:287: DeprecationWarning: `should_run_async` will not call `transform_cell` automatically in the future. Please pass the result to `transformed_cell` argument and any exception that happen during thetransform in `preprocessing_exc_tuple` in IPython 7.17 and above.\n",
      "  and should_run_async(code)\n"
     ]
    },
    {
     "data": {
      "image/png": "[encoded data removed]",
      "text/plain": [
       "<Figure size 360x360 with 1 Axes>"
      ]
     },
     "metadata": {
      "needs_background": "light"
     },
     "output_type": "display_data"
    }
   ],
   "source": [
    "plt.figure(figsize=(5, 5))\n",
    "plt.imshow(np.clip(eopatch_pleaides['data']['BANDS'][..., [2, 1, 0]][0,], 0, 1));\n",
    "plt.axis(False);\n",
    "plt.show()\n"
   ]
  },
  {
   "cell_type": "code",
   "execution_count": 179,
   "id": "c1bd9e6e",
   "metadata": {
    "pycharm": {
     "name": "#%%\n"
    }
   },
   "outputs": [
    {
     "data": {
      "image/png": "[encoded data removed]",
      "text/plain": [
       "<Figure size 360x360 with 1 Axes>"
      ]
     },
     "metadata": {
      "needs_background": "light"
     },
     "output_type": "display_data"
    }
   ],
   "source": [
    "plt.figure(figsize=(5, 5))\n",
    "plt.imshow(eopatch_pleaides.data['BANDS-PAN'][0,].astype(float),vmin = 0.2, vmax = 0.9)\n",
    "plt.colorbar()\n",
    "plt.axis(False);\n",
    "plt.show()"
   ]
  },
  {
   "cell_type": "code",
   "execution_count": 22,
   "id": "56e6faf1",
   "metadata": {
    "pycharm": {
     "name": "#%%\n"
    }
   },
   "outputs": [
    {
     "data": {
      "image/png": "[encoded data removed]",
      "text/plain": [
       "<Figure size 360x360 with 2 Axes>"
      ]
     },
     "metadata": {
      "needs_background": "light"
     },
     "output_type": "display_data"
    }
   ],
   "source": [
    "plt.figure(figsize=(5, 5))\n",
    "plt.imshow(eopatch_pleaides.data['NDVI'][0,].astype(float),vmin = 0.2, vmax = 0.9)\n",
    "plt.colorbar()\n",
    "plt.axis(False);\n",
    "plt.show()"
   ]
  },
  {
   "cell_type": "markdown",
   "id": "ac81a1f7",
   "metadata": {
    "pycharm": {
     "name": "#%% md\n"
    }
   },
   "source": [
    "If you would like to save the EOPatch, you can \n",
    "- call the method .save (e.g. eopatch_spot.save(your_path)) from your EOPatch to save the corresponding npys\n",
    "- save .tif images using ExportToTiffTask from eo-learn https://eo-learn.readthedocs.io/en/latest/eolearn.io.local_io.html#eolearn.io.local_io.ExportToTiffTask"
   ]
  }
 ],
 "metadata": {
  "kernelspec": {
   "display_name": "eo-crops",
   "language": "python",
   "name": "eo-crops"
  },
  "language_info": {
   "codemirror_mode": {
    "name": "ipython",
    "version": 3
   },
   "file_extension": ".py",
   "mimetype": "text/x-python",
   "name": "python",
   "nbconvert_exporter": "python",
   "pygments_lexer": "ipython3",
   "version": "3.7.12"
  }
 },
 "nbformat": 4,
 "nbformat_minor": 5
}
