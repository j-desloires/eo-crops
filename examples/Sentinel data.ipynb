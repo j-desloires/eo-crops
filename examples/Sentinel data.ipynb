{
 "cells": [
  {
   "cell_type": "markdown",
   "id": "5ca6a8c8-2b6b-4734-8c5e-b0c2bd4b03cb",
   "metadata": {},
   "source": [
    "# Sentinel"
   ]
  },
  {
   "cell_type": "markdown",
   "id": "7e8ef3e1-fac8-4e7d-b619-1d529d2da6d2",
   "metadata": {},
   "source": [
    "The aim of this notebook is to guide you how to get Very High Resolution Satellite (VHRS) data using Sentinelhub and predfin. Price for commercial data is described there https://www.sentinel-hub.com/pricing/.\n",
    "\n",
    "The workflow for agriculture purposes is as follows :\n",
    "\n",
    "1) Read shapefile that represent you field (boundaries or microplots)\n",
    "\n",
    "2) Extract Sentinel-2 data and compute averaged NDVI time series to get a summary of the season vegetation dynamic.\n",
    "\n",
    "2) Extract Sentinel-1 data and apply multitemporal speckle filtering"
   ]
  },
  {
   "cell_type": "markdown",
   "id": "18f4338d-47d3-4680-8949-48dce4d1ec42",
   "metadata": {},
   "source": [
    "## Set your working environment"
   ]
  },
  {
   "cell_type": "markdown",
   "id": "5ff84548-45ed-4c18-8c26-66c38b4c2f89",
   "metadata": {},
   "source": [
    "### Import the packages"
   ]
  },
  {
   "cell_type": "code",
   "execution_count": 176,
   "id": "9f951ed2-adb4-422a-b4c1-e0a0151cc0f9",
   "metadata": {},
   "outputs": [],
   "source": [
    "import warnings\n",
    "warnings.filterwarnings(\"ignore\")\n",
    "\n",
    "import geopandas as gpd\n",
    "from scipy.signal import savgol_filter\n",
    "\n",
    "import os\n",
    "import numpy as np\n",
    "import matplotlib.pyplot as plt\n",
    "from eolearn.core import FeatureType\n",
    "\n",
    "from eocrops.input import utils_sh as utils_sh\n",
    "from eocrops.input import sentinel1 as sentinel1\n",
    "from eocrops.input import sentinel2 as sentinel2\n",
    "from eocrops.tasks import cmd_otb as cmd_otb\n",
    "from eocrops.tasks import preprocessing as preprocessing\n"
   ]
  },
  {
   "cell_type": "markdown",
   "id": "7325554a-5b71-4c54-89ce-9b087ba054c0",
   "metadata": {},
   "source": [
    "### Read your vector file"
   ]
  },
  {
   "cell_type": "code",
   "execution_count": 162,
   "id": "c525df92-c794-4867-b2f1-1021dee5c076",
   "metadata": {},
   "outputs": [
    {
     "name": "stdout",
     "output_type": "stream",
     "text": [
      "/home/s999379/git-repo/eo-crops\n"
     ]
    }
   ],
   "source": [
    "dir_path = os.path.dirname(os.getcwd())\n",
    "print(dir_path)\n",
    "#read microplot data\n",
    "shapefile_input = gpd.read_file(os.path.join(dir_path, './examples/layers/POLYGON.shp'))"
   ]
  },
  {
   "cell_type": "code",
   "execution_count": 163,
   "id": "579eb42f-4c25-44f6-aea1-af65cc077887",
   "metadata": {},
   "outputs": [],
   "source": [
    "api =''\n",
    "client_id =''\n",
    "client_secret =''\n",
    "config = utils_sh.config_sentinelhub_cred(api, client_id, client_secret)\n",
    "#Provide here your planet API key \n",
    "config.planet_key = ''"
   ]
  },
  {
   "cell_type": "code",
   "execution_count": 71,
   "id": "0a33c406-7066-49eb-b693-45e931395bba",
   "metadata": {},
   "outputs": [],
   "source": [
    "kwargs = dict(polygon=shapefile_input,\n",
    "              time_stamp=time_period,\n",
    "              config=config)"
   ]
  },
  {
   "cell_type": "markdown",
   "id": "4f173e0b-e236-4882-bff9-c16f25e76407",
   "metadata": {},
   "source": [
    "## Extract S2 data"
   ]
  },
  {
   "cell_type": "code",
   "execution_count": 165,
   "id": "1c34d76b-ab4b-4ed8-989c-7ba450df5337",
   "metadata": {},
   "outputs": [],
   "source": [
    "patch = sentinel2.workflow_instructions_S2L2A(**kwargs,\n",
    "                                              path_out = None, #you can specify here a path to save the EOPatch object\n",
    "                                              coverage_predicate=0.5,\n",
    "                                              interpolation={'interpolate' : True,\n",
    "                                                             'period_length' : 8})  # you can add period_length in the dictionary to resample\n"
   ]
  },
  {
   "cell_type": "code",
   "execution_count": 166,
   "id": "7ac5fbd7-bd82-489c-847f-08012095c0aa",
   "metadata": {},
   "outputs": [
    {
     "data": {
      "image/png": "[encoded data removed]",
      "text/plain": [
       "<Figure size 360x360 with 1 Axes>"
      ]
     },
     "metadata": {
      "needs_background": "light"
     },
     "output_type": "display_data"
    }
   ],
   "source": [
    "#RGB\n",
    "plt.figure(figsize=(5, 5))\n",
    "plt.imshow(np.clip(patch.data['BANDS-S2-L2A'][25][..., [2, 1, 0]]*2.5, 0, 1), vmin=0, vmax=1);\n",
    "plt.axis(False);\n",
    "plt.show()"
   ]
  },
  {
   "cell_type": "code",
   "execution_count": 171,
   "id": "d2fac3a6-797f-4288-8833-0aeb33871898",
   "metadata": {},
   "outputs": [],
   "source": [
    "masking = preprocessing.MaskPixels([\"NDVI\"])\n",
    "patch = masking.execute(patch, erosion = 1)"
   ]
  },
  {
   "cell_type": "code",
   "execution_count": 172,
   "id": "ed4fb29a-cfcf-431f-8d53-5b93e566646e",
   "metadata": {},
   "outputs": [
    {
     "data": {
      "image/png": "[encoded data removed]",
      "text/plain": [
       "<Figure size 360x360 with 1 Axes>"
      ]
     },
     "metadata": {
      "needs_background": "light"
     },
     "output_type": "display_data"
    }
   ],
   "source": [
    "#NDVI\n",
    "plt.figure(figsize=(5, 5))\n",
    "plt.imshow(patch.data['NDVI'][15].squeeze());\n",
    "plt.axis(False);\n",
    "plt.show()"
   ]
  },
  {
   "cell_type": "code",
   "execution_count": 224,
   "id": "9f9105ab-0a88-4ea8-a1c7-381729118bb7",
   "metadata": {},
   "outputs": [
    {
     "data": {
      "image/png": "[encoded data removed]",
      "text/plain": [
       "<Figure size 432x288 with 1 Axes>"
      ]
     },
     "metadata": {
      "needs_background": "light"
     },
     "output_type": "display_data"
    }
   ],
   "source": [
    "#LAI Time Series from masked field\n",
    "variable = 'NDVI'\n",
    "stats_df = preprocessing.get_time_series_profile(patch = patch, \n",
    "                                                 variable = variable, \n",
    "                                                 mask_name = 'MASK', \n",
    "                                                 function = np.nanmean)\n",
    "\n",
    "plt.plot(patch.timestamp, stats_df[variable])\n",
    "plt.xticks(rotation=90)\n",
    "plt.show()"
   ]
  },
  {
   "cell_type": "code",
   "execution_count": 183,
   "id": "f3d7144a-8a97-41f2-bf21-ea44681e9123",
   "metadata": {},
   "outputs": [
    {
     "data": {
      "text/plain": [
       "datetime.datetime(2020, 5, 31, 0, 0)"
      ]
     },
     "execution_count": 183,
     "metadata": {},
     "output_type": "execute_result"
    }
   ],
   "source": [
    "#Peak of the season is at 31/05 \n",
    "time_argmax = np.nanargmax(stats_df[variable])\n",
    "patch.timestamp[time_argmax]"
   ]
  },
  {
   "cell_type": "markdown",
   "id": "08b85a00-3c63-4c31-b8b8-400d15777eca",
   "metadata": {},
   "source": [
    "## Extract Sentinel-1 data "
   ]
  },
  {
   "cell_type": "code",
   "execution_count": 214,
   "id": "54ba256b-c0f7-4575-88b4-f0baee1bdf6e",
   "metadata": {},
   "outputs": [],
   "source": [
    "s1_eopatch = sentinel1.workflow_instructions_S1IW(**kwargs,\n",
    "                                                  speckle_lee_window = 3,\n",
    "                                                  orbit_direction = 'ASC',\n",
    "                                                  backCoeff = 'SIGMA0_ELLIPSOID' )  # you can add period_length in the dictionary to resample"
   ]
  },
  {
   "cell_type": "code",
   "execution_count": 215,
   "id": "06fc7e92-9993-4035-aa14-f7c31c05701e",
   "metadata": {},
   "outputs": [],
   "source": [
    "VV = s1_eopatch.data['BANDS-S1-IW'][...,0]\n",
    "VH =  s1_eopatch.data['BANDS-S1-IW'][...,1]\n",
    "RVI = (4*VH)/(VH+VV)\n",
    "s1_eopatch.add_feature(FeatureType.DATA, \"RVI\", RVI[..., np.newaxis])\n",
    "masking = preprocessing.MaskPixels([ \"RVI\"])\n",
    "s1_eopatch = masking.execute(s1_eopatch)"
   ]
  },
  {
   "cell_type": "code",
   "execution_count": 216,
   "id": "21b2ed83-6fb9-4225-a514-a30ed60217a1",
   "metadata": {},
   "outputs": [
    {
     "data": {
      "image/png": "[encoded data removed]",
      "text/plain": [
       "<Figure size 360x360 with 1 Axes>"
      ]
     },
     "metadata": {
      "needs_background": "light"
     },
     "output_type": "display_data"
    }
   ],
   "source": [
    "#Display RVI from SIGMA0 without any speckle filtering\n",
    "s1_eopatch = masking.execute(s1_eopatch)\n",
    "plt.figure(figsize=(5, 5))\n",
    "plt.imshow(s1_eopatch.data['RVI'][25,].squeeze());\n",
    "plt.axis(False);\n",
    "plt.show()"
   ]
  },
  {
   "cell_type": "markdown",
   "id": "f83ebeec-9ae7-44f0-b83e-b968dcf63105",
   "metadata": {},
   "source": [
    "You can easily download and install OTB https://www.orfeo-toolbox.org/CookBook/Installation.html#linux, which allows you to apply Quegan multitemporal speckle filtering"
   ]
  },
  {
   "cell_type": "code",
   "execution_count": 217,
   "id": "946a81fc-678e-4560-b8f9-26341e93b38d",
   "metadata": {},
   "outputs": [],
   "source": [
    "#Can take around 30 seconds\n",
    "mutlitemp = cmd_otb.MultitempSpeckleFiltering(otb_path = '/home/s999379/git-repo/OTB-7.4.0-Linux64/bin',\n",
    "                                             window = 3)\n",
    "s1_eopatch = mutlitemp.execute(s1_eopatch)"
   ]
  },
  {
   "cell_type": "code",
   "execution_count": 220,
   "id": "ea3b4d6b-adc8-49aa-82e7-cd3f66c74298",
   "metadata": {},
   "outputs": [],
   "source": [
    "VH = s1_eopatch.data['VH_filtered']\n",
    "VV = s1_eopatch.data['VV_filtered']\n",
    "RVI_smoothed = (4*VH)/(VH+VV)\n",
    "s1_eopatch.add_feature(FeatureType.DATA, \"RVI_smoothed\", RVI_smoothed)\n",
    "masking = preprocessing.MaskPixels([\"RVI_smoothed\"])\n",
    "s1_eopatch = masking.execute(s1_eopatch)"
   ]
  },
  {
   "cell_type": "code",
   "execution_count": 222,
   "id": "a4c9c8b1-be3f-4dde-b6c6-f6bd558226ae",
   "metadata": {},
   "outputs": [
    {
     "data": {
      "image/png": "[encoded data removed]",
      "text/plain": [
       "<Figure size 360x360 with 1 Axes>"
      ]
     },
     "metadata": {
      "needs_background": "light"
     },
     "output_type": "display_data"
    }
   ],
   "source": [
    "plt.figure(figsize=(5, 5))\n",
    "plt.imshow(s1_eopatch.data['RVI_smoothed'][25,].squeeze().squeeze());\n",
    "plt.axis(False);\n",
    "plt.show()"
   ]
  },
  {
   "cell_type": "code",
   "execution_count": 223,
   "id": "eb425046-28fc-44a2-835c-141f70380f4f",
   "metadata": {},
   "outputs": [
    {
     "data": {
      "image/png": "[encoded data removed]",
      "text/plain": [
       "<Figure size 432x288 with 1 Axes>"
      ]
     },
     "metadata": {
      "needs_background": "light"
     },
     "output_type": "display_data"
    }
   ],
   "source": [
    "#LAI Time Series from masked field\n",
    "variable = 'RVI_smoothed'\n",
    "stats_df = preprocessing.get_time_series_profile(patch = s1_eopatch, \n",
    "                                                 variable = variable, \n",
    "                                                 mask_name = 'MASK', \n",
    "                                                 function = np.nanmean)\n",
    "smoothed_rvi =  savgol_filter(stats_df[variable], 5 , 2)\n",
    "plt.plot(s1_eopatch.timestamp, smoothed_rvi)\n",
    "plt.xticks(rotation=90)\n",
    "plt.show()"
   ]
  }
 ],
 "metadata": {
  "kernelspec": {
   "display_name": "eo-crops",
   "language": "python",
   "name": "eo-crops"
  },
  "language_info": {
   "codemirror_mode": {
    "name": "ipython",
    "version": 3
   },
   "file_extension": ".py",
   "mimetype": "text/x-python",
   "name": "python",
   "nbconvert_exporter": "python",
   "pygments_lexer": "ipython3",
   "version": "3.7.12"
  }
 },
 "nbformat": 4,
 "nbformat_minor": 5
}