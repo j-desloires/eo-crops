{
 "cells": [
  {
   "cell_type": "markdown",
   "id": "5a9eebce",
   "metadata": {
    "pycharm": {
     "name": "#%% md\n"
    }
   },
   "source": [
    "# Sentinel 1 and 2"
   ]
  },
  {
   "cell_type": "markdown",
   "id": "46193fec",
   "metadata": {
    "pycharm": {
     "name": "#%% md\n"
    }
   },
   "source": [
    "The aim of this notebook is to guide you how to get Sentinel data using Sentinelhub and eo-learn. Price for subscription is described there https://www.sentinel-hub.com/pricing/.\n",
    "\n",
    "The workflow for agriculture purposes is as follows :\n",
    "\n",
    "1) Read shapefile that represent you field (boundaries or microplots)\n",
    "\n",
    "2) Extract Sentinel-2 data and compute averaged NDVI time series to get a summary of the season vegetation dynamic.\n",
    "\n",
    "3) Extract Sentinel-1 data and apply multitemporal speckle filtering"
   ]
  },
  {
   "cell_type": "markdown",
   "id": "4b394e51",
   "metadata": {
    "pycharm": {
     "name": "#%% md\n"
    }
   },
   "source": [
    "## Set your working environment"
   ]
  },
  {
   "cell_type": "markdown",
   "id": "9c49c15e",
   "metadata": {
    "pycharm": {
     "name": "#%% md\n"
    }
   },
   "source": [
    "### Import the packages"
   ]
  },
  {
   "cell_type": "code",
   "execution_count": 1,
   "id": "2714c2f2",
   "metadata": {
    "pycharm": {
     "name": "#%%\n"
    }
   },
   "outputs": [],
   "source": [
    "import warnings\n",
    "warnings.filterwarnings(\"ignore\")\n",
    "\n",
    "import geopandas as gpd\n",
    "from scipy.signal import savgol_filter\n",
    "\n",
    "import os\n",
    "import numpy as np\n",
    "import matplotlib.pyplot as plt\n",
    "from eolearn.core import FeatureType\n",
    "\n",
    "from eocrops.input import utils_sh as utils_sh\n",
    "from eocrops.input import sentinel1 as sentinel1\n",
    "from eocrops.input import sentinel2 as sentinel2\n",
    "from eocrops.tasks import cmd_otb as cmd_otb\n",
    "from eocrops.tasks import preprocessing as preprocessing\n"
   ]
  },
  {
   "cell_type": "markdown",
   "id": "59c8b191",
   "metadata": {
    "pycharm": {
     "name": "#%% md\n"
    }
   },
   "source": [
    "### Read your vector file"
   ]
  },
  {
   "cell_type": "code",
   "execution_count": 2,
   "id": "7f7e1a00",
   "metadata": {
    "pycharm": {
     "name": "#%%\n"
    }
   },
   "outputs": [
    {
     "name": "stdout",
     "output_type": "stream",
     "text": [
      "/home/johann/Documents/git-repo/eo-crops\n"
     ]
    },
    {
     "name": "stderr",
     "output_type": "stream",
     "text": [
      "/home/johann/anaconda3/envs/eo-crops/lib/python3.7/site-packages/ipykernel/ipkernel.py:287: DeprecationWarning: `should_run_async` will not call `transform_cell` automatically in the future. Please pass the result to `transformed_cell` argument and any exception that happen during thetransform in `preprocessing_exc_tuple` in IPython 7.17 and above.\n",
      "  and should_run_async(code)\n"
     ]
    }
   ],
   "source": [
    "dir_path = os.path.dirname(os.getcwd())\n",
    "print(dir_path)\n",
    "#read microplot data\n",
    "shapefile_input = gpd.read_file(os.path.join(dir_path, './examples/layers/POLYGON.shp'))"
   ]
  },
  {
   "cell_type": "code",
   "execution_count": 3,
   "id": "e325fa21",
   "metadata": {
    "pycharm": {
     "name": "#%%\n"
    }
   },
   "outputs": [
    {
     "name": "stderr",
     "output_type": "stream",
     "text": [
      "/home/johann/anaconda3/envs/eo-crops/lib/python3.7/site-packages/ipykernel/ipkernel.py:287: DeprecationWarning: `should_run_async` will not call `transform_cell` automatically in the future. Please pass the result to `transformed_cell` argument and any exception that happen during thetransform in `preprocessing_exc_tuple` in IPython 7.17 and above.\n",
      "  and should_run_async(code)\n"
     ]
    }
   ],
   "source": [
    "api =''\n",
    "client_id =''\n",
    "client_secret =''\n",
    "config = utils_sh.config_sentinelhub_cred(api, client_id, client_secret)\n",
    "#Provide here your planet API key \n",
    "config.planet_key = ''"
   ]
  },
  {
   "cell_type": "code",
   "execution_count": 18,
   "id": "6bad372b",
   "metadata": {
    "pycharm": {
     "name": "#%%\n"
    }
   },
   "outputs": [],
   "source": [
    "time_period = ('2020-02-15', '2020-08-15')\n",
    "kwargs = dict(polygon=shapefile_input,\n",
    "              time_stamp=time_period,\n",
    "              config=config)"
   ]
  },
  {
   "cell_type": "markdown",
   "id": "32f5f8c1",
   "metadata": {
    "pycharm": {
     "name": "#%% md\n"
    }
   },
   "source": [
    "## Extract S2 data"
   ]
  },
  {
   "cell_type": "code",
   "execution_count": 19,
   "id": "9f923e73",
   "metadata": {
    "pycharm": {
     "name": "#%%\n"
    }
   },
   "outputs": [],
   "source": [
    "warnings.filterwarnings(\"ignore\")\n",
    "patch = sentinel2.workflow_instructions_S2L2A(**kwargs,\n",
    "                                              path_out = None, #you can specify here a path to save the EOPatch object\n",
    "                                              coverage_predicate=0.5,\n",
    "                                              interpolation={'interpolate' : True,\n",
    "                                                             'period_length' : 8})  # you can add period_length in the dictionary to resample\n"
   ]
  },
  {
   "cell_type": "code",
   "execution_count": 20,
   "id": "ef3b89b7",
   "metadata": {
    "pycharm": {
     "name": "#%%\n"
    }
   },
   "outputs": [
    {
     "data": {
      "image/png": "[encoded data removed]",
      "text/plain": [
       "<Figure size 360x360 with 1 Axes>"
      ]
     },
     "metadata": {
      "needs_background": "light"
     },
     "output_type": "display_data"
    }
   ],
   "source": [
    "#RGB\n",
    "plt.figure(figsize=(5, 5))\n",
    "plt.imshow(np.clip(patch.data['BANDS-S2-L2A'][4][..., [2, 1, 0]]*2.5, 0, 1), vmin=0, vmax=1);\n",
    "plt.axis(False);\n",
    "plt.show()"
   ]
  },
  {
   "cell_type": "code",
   "execution_count": 21,
   "id": "4babe8e5",
   "metadata": {
    "pycharm": {
     "name": "#%%\n"
    }
   },
   "outputs": [],
   "source": [
    "masking = preprocessing.MaskPixels([\"NDVI\", \"LAI\"])\n",
    "patch = masking.execute(patch, erosion = 1)"
   ]
  },
  {
   "cell_type": "code",
   "execution_count": 23,
   "id": "f0320999",
   "metadata": {
    "pycharm": {
     "name": "#%%\n"
    }
   },
   "outputs": [
    {
     "data": {
      "image/png": "[encoded data removed]",
      "text/plain": [
       "<Figure size 360x360 with 1 Axes>"
      ]
     },
     "metadata": {
      "needs_background": "light"
     },
     "output_type": "display_data"
    }
   ],
   "source": [
    "#NDVI\n",
    "plt.figure(figsize=(5, 5))\n",
    "plt.imshow(patch.data['NDVI'][15,].squeeze());\n",
    "plt.axis(False);\n",
    "plt.show()"
   ]
  },
  {
   "cell_type": "code",
   "execution_count": 24,
   "id": "93f2b9ae",
   "metadata": {
    "pycharm": {
     "name": "#%%\n"
    }
   },
   "outputs": [
    {
     "data": {
      "image/png": "[encoded data removed]",
      "text/plain": [
       "<Figure size 432x288 with 1 Axes>"
      ]
     },
     "metadata": {
      "needs_background": "light"
     },
     "output_type": "display_data"
    }
   ],
   "source": [
    "#LAI Time Series from masked field\n",
    "variable = 'LAI'\n",
    "\n",
    "stats_df = preprocessing.get_time_series_profile(feature_array = patch.data[variable],\n",
    "                                                 crop_mask = patch.mask_timeless['MASK'],\n",
    "                                                 function=np.nanmedian)\n",
    "\n",
    "plt.plot(patch.timestamp, stats_df)\n",
    "plt.xticks(rotation=90)\n",
    "plt.show()"
   ]
  },
  {
   "cell_type": "code",
   "execution_count": 25,
   "id": "0699a68d",
   "metadata": {
    "pycharm": {
     "name": "#%%\n"
    }
   },
   "outputs": [
    {
     "data": {
      "text/plain": [
       "datetime.datetime(2020, 5, 29, 0, 0)"
      ]
     },
     "execution_count": 25,
     "metadata": {},
     "output_type": "execute_result"
    }
   ],
   "source": [
    "#Peak of the season is at 31/05 \n",
    "time_argmax = np.nanargmax(stats_df)\n",
    "patch.timestamp[time_argmax]"
   ]
  },
  {
   "cell_type": "code",
   "execution_count": 27,
   "id": "8dce547e",
   "metadata": {
    "pycharm": {
     "name": "#%%\n"
    }
   },
   "outputs": [],
   "source": [
    "#If you would like to save the data in .tif format (e.g. NDVI on the first date)\n",
    "from eolearn.io.local_io import ExportToTiffTask\n",
    "index_time = 0\n",
    "date = str(patch.timestamp[index_time]).split(' ')[0]\n",
    "\n",
    "export = ExportToTiffTask(feature='NDVI',\n",
    "                          folder=os.path.join('your_path_'+ date),\n",
    "                          band_indices=[0],\n",
    "                          date_indices=[index_time])\n",
    "patch = export.execute(patch)"
   ]
  },
  {
   "cell_type": "markdown",
   "id": "8137402a",
   "metadata": {
    "pycharm": {
     "name": "#%% md\n"
    }
   },
   "source": [
    "## Extract Sentinel-1 data "
   ]
  },
  {
   "cell_type": "code",
   "execution_count": 28,
   "id": "f94d58fc",
   "metadata": {
    "pycharm": {
     "name": "#%%\n"
    }
   },
   "outputs": [],
   "source": [
    "s1_eopatch = sentinel1.workflow_instructions_S1IW(**kwargs,\n",
    "                                                  speckle_lee_window = 3,\n",
    "                                                  orbit_direction = 'ASC',\n",
    "                                                  backCoeff = 'SIGMA0_ELLIPSOID' ) "
   ]
  },
  {
   "cell_type": "code",
   "execution_count": 29,
   "id": "8ef78417",
   "metadata": {
    "pycharm": {
     "name": "#%%\n"
    }
   },
   "outputs": [],
   "source": [
    "#Compute Radar Vegetation Index\n",
    "VV = s1_eopatch.data['BANDS-S1-IW'][...,0]\n",
    "VH =  s1_eopatch.data['BANDS-S1-IW'][...,1]\n",
    "RVI = (4*VH)/(VH+VV)\n",
    "#Add the feature to the EOPatch\n",
    "s1_eopatch.add_feature(FeatureType.DATA, \"RVI\", RVI[..., np.newaxis])\n",
    "masking = preprocessing.MaskPixels([ \"RVI\"])\n",
    "s1_eopatch = masking.execute(s1_eopatch)"
   ]
  },
  {
   "cell_type": "code",
   "execution_count": 31,
   "id": "3e549f7f",
   "metadata": {
    "pycharm": {
     "name": "#%%\n"
    }
   },
   "outputs": [
    {
     "data": {
      "image/png": "[encoded data removed]",
      "text/plain": [
       "<Figure size 360x360 with 1 Axes>"
      ]
     },
     "metadata": {
      "needs_background": "light"
     },
     "output_type": "display_data"
    }
   ],
   "source": [
    "#Display RVI from SIGMA0 without any speckle filtering\n",
    "s1_eopatch = masking.execute(s1_eopatch)\n",
    "plt.figure(figsize=(5, 5))\n",
    "plt.imshow(s1_eopatch.data['RVI'][15,].squeeze());\n",
    "plt.axis(False);\n",
    "plt.show()"
   ]
  },
  {
   "cell_type": "markdown",
   "id": "844ed4e9",
   "metadata": {
    "pycharm": {
     "name": "#%% md\n"
    }
   },
   "source": [
    "You can easily download and install OTB https://www.orfeo-toolbox.org/CookBook/Installation.html#linux, which allows you to apply Quegan multitemporal speckle filtering"
   ]
  },
  {
   "cell_type": "code",
   "execution_count": 33,
   "id": "543160b3",
   "metadata": {
    "pycharm": {
     "name": "#%%\n"
    }
   },
   "outputs": [],
   "source": [
    "#Can take around 30 seconds\n",
    "mutlitemp = cmd_otb.MultitempSpeckleFiltering(otb_path = '/home/johann/Documents/OTB/OTB-8.0.1-Linux64/bin',\n",
    "                                             window = 3)\n",
    "s1_eopatch = mutlitemp.execute(s1_eopatch)"
   ]
  },
  {
   "cell_type": "code",
   "execution_count": 35,
   "id": "f6844f37",
   "metadata": {
    "pycharm": {
     "name": "#%%\n"
    }
   },
   "outputs": [],
   "source": [
    "#Compare backscatter values after multitemporal smoothing\n",
    "VH = s1_eopatch.data['VH_filtered']\n",
    "VV = s1_eopatch.data['VV_filtered']\n",
    "RVI_smoothed = (4*VH)/(VH+VV)\n",
    "#Add the value smoothed to the EOPatch\n",
    "s1_eopatch.add_feature(FeatureType.DATA, \"RVI_smoothed\", RVI_smoothed)\n",
    "masking = preprocessing.MaskPixels([\"RVI_smoothed\"])\n",
    "s1_eopatch = masking.execute(s1_eopatch)"
   ]
  },
  {
   "cell_type": "code",
   "execution_count": 37,
   "id": "d10c479b",
   "metadata": {
    "pycharm": {
     "name": "#%%\n"
    }
   },
   "outputs": [
    {
     "data": {
      "image/png": "[encoded data removed]",
      "text/plain": [
       "<Figure size 360x360 with 1 Axes>"
      ]
     },
     "metadata": {
      "needs_background": "light"
     },
     "output_type": "display_data"
    }
   ],
   "source": [
    "plt.figure(figsize=(5, 5))\n",
    "plt.imshow(s1_eopatch.data['RVI_smoothed'][15,].squeeze().squeeze());\n",
    "plt.axis(False);\n",
    "plt.show()"
   ]
  },
  {
   "cell_type": "code",
   "execution_count": 41,
   "id": "226114f1",
   "metadata": {
    "pycharm": {
     "name": "#%%\n"
    }
   },
   "outputs": [
    {
     "data": {
      "image/png": "[encoded data removed]",
      "text/plain": [
       "<Figure size 432x288 with 1 Axes>"
      ]
     },
     "metadata": {
      "needs_background": "light"
     },
     "output_type": "display_data"
    }
   ],
   "source": [
    "#LAI Time Series from masked field\n",
    "variable = 'RVI_smoothed'\n",
    "\n",
    "stats_df = preprocessing.get_time_series_profile(feature_array = s1_eopatch.data[variable],\n",
    "                                                 crop_mask = s1_eopatch.mask_timeless['MASK'],\n",
    "                                                 function=np.nanmedian)\n",
    "\n",
    "plt.plot(s1_eopatch.timestamp, stats_df)\n",
    "plt.xticks(rotation=90)\n",
    "plt.show()"
   ]
  },
  {
   "cell_type": "code",
   "execution_count": null,
   "id": "d62d985d",
   "metadata": {
    "pycharm": {
     "name": "#%%\n"
    }
   },
   "outputs": [],
   "source": []
  }
 ],
 "metadata": {
  "kernelspec": {
   "display_name": "eo-crops",
   "language": "python",
   "name": "eo-crops"
  },
  "language_info": {
   "codemirror_mode": {
    "name": "ipython",
    "version": 3
   },
   "file_extension": ".py",
   "mimetype": "text/x-python",
   "name": "python",
   "nbconvert_exporter": "python",
   "pygments_lexer": "ipython3",
   "version": "3.7.12"
  }
 },
 "nbformat": 4,
 "nbformat_minor": 5
}