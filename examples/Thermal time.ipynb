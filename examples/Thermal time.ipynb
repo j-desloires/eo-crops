{
 "cells": [
  {
   "cell_type": "markdown",
   "id": "e9a00004-6330-4d28-a151-87ad1944b5eb",
   "metadata": {},
   "source": [
    "# Thermal time"
   ]
  },
  {
   "cell_type": "code",
   "execution_count": 10,
   "id": "fb13c71c-65ee-4a74-80fd-f2dfeb680d1b",
   "metadata": {},
   "outputs": [],
   "source": [
    "import os\n",
    "import copy\n",
    "import datetime\n",
    "\n",
    "import pandas as pd\n",
    "import numpy as np\n",
    "import matplotlib.pyplot as plt\n",
    "plt.rcParams[\"figure.figsize\"] = [5, 2]\n",
    "from eocrops.inputs.meteoblue import WeatherDownload\n",
    "from eocrops.climatools.format_data import WeatherPostprocess\n",
    "from eocrops.climatools import resampling\n",
    "from eocrops.tasks import curve_fitting\n",
    "from eocrops.utils import base_functions as utils\n",
    "from shapely.geometry import Point\n"
   ]
  },
  {
   "cell_type": "markdown",
   "id": "61f71eeb-e2a4-4819-8695-bc1574bda240",
   "metadata": {},
   "source": [
    "## Load the file"
   ]
  },
  {
   "cell_type": "code",
   "execution_count": 4,
   "id": "9541549b-0dc8-417b-8f5d-d35ee6704205",
   "metadata": {},
   "outputs": [],
   "source": [
    "# Define the path to get store the data\n",
    "PATH_EXPERIMENT = os.path.join(\"../data\", \"experiments\")\n",
    "TIME_INTERVAL = (\"2017-08-15\", \"2018-07-15\")\n",
    "\n",
    "YEAR = TIME_INTERVAL[-1].split(\"-\")[0]\n",
    "\n",
    "if not os.path.exists(PATH_EXPERIMENT):\n",
    "    os.mkdir(PATH_EXPERIMENT)\n"
   ]
  },
  {
   "cell_type": "code",
   "execution_count": 6,
   "id": "9771374a-031f-4fdc-9408-663fce374dc1",
   "metadata": {},
   "outputs": [
    {
     "name": "stderr",
     "output_type": "stream",
     "text": [
      "C:\\Users\\s999379\\Miniconda3\\envs\\eo-crops\\lib\\site-packages\\pandas\\core\\dtypes\\cast.py:128: ShapelyDeprecationWarning: The array interface is deprecated and will no longer work in Shapely 2.0. Convert the '.coords' to a numpy array instead.\n",
      "  arr = construct_1d_object_array_from_listlike(values)\n"
     ]
    }
   ],
   "source": [
    "# Read the dataset\n",
    "## Read the excel file\n",
    "sentinel_data = pd.read_excel(\"../data/rapeseed_data_s1.xlsx\")\n",
    "sentinel_data = sentinel_data.sort_values(by=[\"ID\", \"band\"])\n",
    "## Define the features\n",
    "features_data = [(\"DATA\", f, f, \"float32\", 1) for f in sentinel_data[\"band\"].unique()]"
   ]
  },
  {
   "cell_type": "code",
   "execution_count": 7,
   "id": "af87297a-e953-415c-af8f-5871313a5438",
   "metadata": {},
   "outputs": [
    {
     "name": "stderr",
     "output_type": "stream",
     "text": [
      "C:\\Users\\s999379\\Miniconda3\\envs\\eo-crops\\lib\\site-packages\\pandas\\core\\dtypes\\cast.py:128: ShapelyDeprecationWarning: The array interface is deprecated and will no longer work in Shapely 2.0. Convert the '.coords' to a numpy array instead.\n",
      "  arr = construct_1d_object_array_from_listlike(values)\n"
     ]
    }
   ],
   "source": [
    "## Define the meta data\n",
    "### Get the informations regarding the location\n",
    "meta_data = sentinel_data[[\"ID\", \"lon\", \"lat\"]].drop_duplicates()\n",
    "### Add in the metadata file the dates of interest in the time series\n",
    "meta_data[\"timestamp\"] = [TIME_INTERVAL]\n",
    "### Convert the coordinates into Point\n",
    "meta_data[\"geometry\"] = [\n",
    "    Point(x, y) for x, y in zip(meta_data[\"lon\"], meta_data[\"lat\"])\n",
    "]\n",
    "feature_vector = [(col_name, \"string\") for col_name in meta_data.columns]\n",
    "np.save(file=f\"{PATH_EXPERIMENT}/meta_data.npy\", arr=meta_data.values)"
   ]
  },
  {
   "cell_type": "code",
   "execution_count": 8,
   "id": "176d007c-b3be-4ff1-888a-a8a46b4f21f8",
   "metadata": {},
   "outputs": [],
   "source": [
    "\n",
    "## Define the 3D array from Sentinel-2 data\n",
    "### Keep only band values\n",
    "sentinel_bands = sentinel_data.drop([\"ID\", \"lon\", \"lat\", \"band\"], axis=1)\n",
    "dates = sentinel_bands.columns\n",
    "sentinel_values = sentinel_bands.values\n",
    "### Reshape in 3D array\n",
    "array_data = sentinel_values.reshape(\n",
    "    sentinel_values.shape[0] // len(features_data),\n",
    "    len(features_data),\n",
    "    sentinel_values.shape[1],\n",
    ")\n",
    "array_data = np.moveaxis(array_data, 1, 2)\n"
   ]
  },
  {
   "cell_type": "code",
   "execution_count": 11,
   "id": "1fbacb95-483e-4982-8eec-b424cdc93b69",
   "metadata": {},
   "outputs": [
    {
     "name": "stderr",
     "output_type": "stream",
     "text": [
      "C:\\Users\\s999379\\AppData\\Local\\Temp\\ipykernel_10752\\3585828634.py:2: DeprecationWarning: elementwise comparison failed; this will raise an error in the future.\n",
      "  np.alltrue(sentinel_data.iloc[0, :].values == array_data[0, :, 0])\n"
     ]
    },
    {
     "data": {
      "image/png": "[encoded data removed]",
      "text/plain": [
       "<Figure size 500x200 with 1 Axes>"
      ]
     },
     "metadata": {},
     "output_type": "display_data"
    }
   ],
   "source": [
    "### Check if the reshape worked well\n",
    "np.alltrue(sentinel_data.iloc[0, :].values == array_data[0, :, 0])\n",
    "### Plot the first observation\n",
    "plt.plot(array_data[0, :, 0])\n",
    "plt.show()"
   ]
  },
  {
   "cell_type": "code",
   "execution_count": 12,
   "id": "0682b4b5-c291-4d22-89f2-02216f2b4fbb",
   "metadata": {},
   "outputs": [
    {
     "data": {
      "text/plain": [
       "55"
      ]
     },
     "execution_count": 12,
     "metadata": {},
     "output_type": "execute_result"
    }
   ],
   "source": [
    "## Get the day of the year of the samples\n",
    "dates = [datetime.datetime.strptime(str(k), \"%Y%m%d\") for k in dates]\n",
    "## Subset for the season of interest\n",
    "### Usually for rapeseed, season start 15 August previous year\n",
    "start_season = datetime.datetime.strptime(TIME_INTERVAL[0], \"%Y-%m-%d\")\n",
    "### And harvest is up to mid-July\n",
    "end_season = datetime.datetime.strptime(TIME_INTERVAL[1], \"%Y-%m-%d\")\n",
    "\n",
    "subset_dates = [k for k in dates if k >= start_season and k <= end_season]\n",
    "len(subset_dates)"
   ]
  },
  {
   "cell_type": "markdown",
   "id": "09578d7e-44ad-444c-8253-68aef0f4d1ac",
   "metadata": {},
   "source": [
    "## Check if we have a fixed number of days between acquisition dates"
   ]
  },
  {
   "cell_type": "markdown",
   "id": "e6ef5afa-4105-4271-ab8a-3cd2c612a0a2",
   "metadata": {},
   "source": [
    "### Compute number of days between each acquisition date"
   ]
  },
  {
   "cell_type": "code",
   "execution_count": 15,
   "id": "194ef3d2-2f39-4087-be78-c505021e382d",
   "metadata": {},
   "outputs": [
    {
     "name": "stdout",
     "output_type": "stream",
     "text": [
      "144\n",
      "False\n"
     ]
    }
   ],
   "source": [
    "# Check the dates and resample the data over fixed periods\n",
    "def days_since_first(dates):\n",
    "    \"\"\"Compute number of days since the start of the season\"\"\"\n",
    "    first_date = dates[0]\n",
    "    days_since = [(d - first_date).days for d in dates]\n",
    "    return np.array(days_since)\n",
    "\n",
    "\n",
    "def is_evenly_spaced(lst, step):\n",
    "    \"\"\"Check if day of the year are evenly spaced\"\"\"\n",
    "    for i in range(1, len(lst)):\n",
    "        if lst[i] - lst[i - 1] != step:\n",
    "            print(lst[i])\n",
    "            return False\n",
    "    return True\n",
    "\n",
    "\n",
    "# Day of the year since start of season (15th August)\n",
    "subset_dates_doy = days_since_first(subset_dates)\n",
    "array_data = array_data[:, : len(subset_dates_doy), :]\n",
    "# Check if doy are evenly spaced, otherwise we need to resample\n",
    "print(is_evenly_spaced(subset_dates_doy, subset_dates_doy[1] - subset_dates_doy[0]))"
   ]
  },
  {
   "cell_type": "code",
   "execution_count": 17,
   "id": "a11dd8a2-e735-414c-823f-477edd98ae9a",
   "metadata": {},
   "outputs": [
    {
     "data": {
      "image/png": "[encoded data removed]",
      "text/plain": [
       "<Figure size 500x200 with 1 Axes>"
      ]
     },
     "metadata": {},
     "output_type": "display_data"
    }
   ],
   "source": [
    "# Resample the data since we do not have regular dates\n",
    "curve_fit = curve_fitting.CurveFitting(\n",
    "    range_doy=(subset_dates_doy[0], subset_dates_doy[-1])\n",
    ")\n",
    "\n",
    "new_dates_doy, array_resample = curve_fit.resample_ts(\n",
    "    doy=subset_dates_doy,\n",
    "    ts_mean_=array_data,\n",
    "    resampling=6,  # Resample every 6 days\n",
    ")\n",
    "# Check the results : any changes\n",
    "plt.plot(subset_dates_doy, array_data[0, :, 1])\n",
    "plt.plot(new_dates_doy, array_resample[0, :, 1])\n",
    "plt.show()"
   ]
  },
  {
   "cell_type": "code",
   "execution_count": 18,
   "id": "d2dab854-ef41-4774-b52f-86765bcaed09",
   "metadata": {},
   "outputs": [],
   "source": [
    "# Save the satellite data\n",
    "np.save(file=f\"{PATH_EXPERIMENT}/satellite_data.npy\", arr=array_resample)"
   ]
  },
  {
   "cell_type": "markdown",
   "id": "715a7b72-ac5c-4614-a7d4-fd25d344fb86",
   "metadata": {},
   "source": [
    "## Extract weather data"
   ]
  },
  {
   "cell_type": "code",
   "execution_count": null,
   "id": "26987912-4fbf-4750-b659-be5ba867611b",
   "metadata": {},
   "outputs": [],
   "source": [
    "# Extract the weather data\n",
    "## Download the data using meteoblue API\n",
    "pipeline_cehub = WeatherDownload(\n",
    "    api_key=\"\",  # Please put your meteoblue API here\n",
    "    shapefile=meta_data,\n",
    "    id_column=\"ID\",  # column from the meta_data with the ID of the field\n",
    "    timestamp_column=\"timestamp\",  # timestamp of interest\n",
    ")\n",
    "\n",
    "query_base = [\n",
    "    {\"domain\": \"ERA5T\", \"gapFillDomain\": \"ERA5\", \"timeResolution\": \"daily\", \"codes\": []}\n",
    "]\n",
    "\n",
    "query_sum = copy.deepcopy(query_base)\n",
    "query_sum[0][\"codes\"].extend(\n",
    "    [\n",
    "        {\n",
    "            \"code\": 731,\n",
    "            \"level\": \"2 m above gnd\",\n",
    "            \"aggregation\": \"sum\",\n",
    "            \"gddBase\": 0,  # Tmin for rapeseed\n",
    "            \"gddLimit\": 30,  # Tmax for rapeseed\n",
    "        }\n",
    "    ]\n",
    ")\n",
    "weather_data = pipeline_cehub.execute(query=query_sum)\n",
    "weather_data.to_csv(f\"{PATH_EXPERIMENT}/GDD_data_raw.csv\", index=False)"
   ]
  },
  {
   "cell_type": "code",
   "execution_count": 22,
   "id": "383d532d-5de2-4a81-bb5f-ef6259046725",
   "metadata": {},
   "outputs": [
    {
     "data": {
      "text/html": [
       "<div>\n",
       "<style scoped>\n",
       "    .dataframe tbody tr th:only-of-type {\n",
       "        vertical-align: middle;\n",
       "    }\n",
       "\n",
       "    .dataframe tbody tr th {\n",
       "        vertical-align: top;\n",
       "    }\n",
       "\n",
       "    .dataframe thead th {\n",
       "        text-align: right;\n",
       "    }\n",
       "</style>\n",
       "<table border=\"1\" class=\"dataframe\">\n",
       "  <thead>\n",
       "    <tr style=\"text-align: right;\">\n",
       "      <th></th>\n",
       "      <th>ID</th>\n",
       "      <th>('sum_Growing Degree days daily max/min', 0.0)</th>\n",
       "      <th>('sum_Growing Degree days daily max/min', 1.0)</th>\n",
       "      <th>('sum_Growing Degree days daily max/min', 2.0)</th>\n",
       "      <th>('sum_Growing Degree days daily max/min', 3.0)</th>\n",
       "      <th>('sum_Growing Degree days daily max/min', 4.0)</th>\n",
       "      <th>('sum_Growing Degree days daily max/min', 5.0)</th>\n",
       "      <th>('sum_Growing Degree days daily max/min', 6.0)</th>\n",
       "      <th>('sum_Growing Degree days daily max/min', 7.0)</th>\n",
       "      <th>('sum_Growing Degree days daily max/min', 8.0)</th>\n",
       "      <th>...</th>\n",
       "      <th>('sum_Growing Degree days daily max/min', 324.0)</th>\n",
       "      <th>('sum_Growing Degree days daily max/min', 325.0)</th>\n",
       "      <th>('sum_Growing Degree days daily max/min', 326.0)</th>\n",
       "      <th>('sum_Growing Degree days daily max/min', 327.0)</th>\n",
       "      <th>('sum_Growing Degree days daily max/min', 328.0)</th>\n",
       "      <th>('sum_Growing Degree days daily max/min', 329.0)</th>\n",
       "      <th>('sum_Growing Degree days daily max/min', 330.0)</th>\n",
       "      <th>('sum_Growing Degree days daily max/min', 331.0)</th>\n",
       "      <th>('sum_Growing Degree days daily max/min', 332.0)</th>\n",
       "      <th>('sum_Growing Degree days daily max/min', 333.0)</th>\n",
       "    </tr>\n",
       "  </thead>\n",
       "  <tbody>\n",
       "    <tr>\n",
       "      <th>0</th>\n",
       "      <td>1</td>\n",
       "      <td>20.619999</td>\n",
       "      <td>20.814999</td>\n",
       "      <td>20.605</td>\n",
       "      <td>19.31</td>\n",
       "      <td>17.220001</td>\n",
       "      <td>17.26</td>\n",
       "      <td>21.54</td>\n",
       "      <td>23.880001</td>\n",
       "      <td>23.305</td>\n",
       "      <td>...</td>\n",
       "      <td>20.45</td>\n",
       "      <td>20.705</td>\n",
       "      <td>22.220001</td>\n",
       "      <td>24.555</td>\n",
       "      <td>24.470001</td>\n",
       "      <td>23.044998</td>\n",
       "      <td>21.25</td>\n",
       "      <td>20.89</td>\n",
       "      <td>22.255</td>\n",
       "      <td>48.105</td>\n",
       "    </tr>\n",
       "  </tbody>\n",
       "</table>\n",
       "<p>1 rows × 335 columns</p>\n",
       "</div>"
      ],
      "text/plain": [
       "   ID  ('sum_Growing Degree days daily max/min', 0.0)  \\\n",
       "0   1                                       20.619999   \n",
       "\n",
       "   ('sum_Growing Degree days daily max/min', 1.0)  \\\n",
       "0                                       20.814999   \n",
       "\n",
       "   ('sum_Growing Degree days daily max/min', 2.0)  \\\n",
       "0                                          20.605   \n",
       "\n",
       "   ('sum_Growing Degree days daily max/min', 3.0)  \\\n",
       "0                                           19.31   \n",
       "\n",
       "   ('sum_Growing Degree days daily max/min', 4.0)  \\\n",
       "0                                       17.220001   \n",
       "\n",
       "   ('sum_Growing Degree days daily max/min', 5.0)  \\\n",
       "0                                           17.26   \n",
       "\n",
       "   ('sum_Growing Degree days daily max/min', 6.0)  \\\n",
       "0                                           21.54   \n",
       "\n",
       "   ('sum_Growing Degree days daily max/min', 7.0)  \\\n",
       "0                                       23.880001   \n",
       "\n",
       "   ('sum_Growing Degree days daily max/min', 8.0)  ...  \\\n",
       "0                                          23.305  ...   \n",
       "\n",
       "   ('sum_Growing Degree days daily max/min', 324.0)  \\\n",
       "0                                             20.45   \n",
       "\n",
       "   ('sum_Growing Degree days daily max/min', 325.0)  \\\n",
       "0                                            20.705   \n",
       "\n",
       "   ('sum_Growing Degree days daily max/min', 326.0)  \\\n",
       "0                                         22.220001   \n",
       "\n",
       "   ('sum_Growing Degree days daily max/min', 327.0)  \\\n",
       "0                                            24.555   \n",
       "\n",
       "   ('sum_Growing Degree days daily max/min', 328.0)  \\\n",
       "0                                         24.470001   \n",
       "\n",
       "   ('sum_Growing Degree days daily max/min', 329.0)  \\\n",
       "0                                         23.044998   \n",
       "\n",
       "   ('sum_Growing Degree days daily max/min', 330.0)  \\\n",
       "0                                             21.25   \n",
       "\n",
       "   ('sum_Growing Degree days daily max/min', 331.0)  \\\n",
       "0                                             20.89   \n",
       "\n",
       "   ('sum_Growing Degree days daily max/min', 332.0)  \\\n",
       "0                                            22.255   \n",
       "\n",
       "   ('sum_Growing Degree days daily max/min', 333.0)  \n",
       "0                                            48.105  \n",
       "\n",
       "[1 rows x 335 columns]"
      ]
     },
     "execution_count": 22,
     "metadata": {},
     "output_type": "execute_result"
    }
   ],
   "source": [
    "## Format the data to compute accumulated GDUs\n",
    "weather_data = pd.read_csv(f\"{PATH_EXPERIMENT}/GDD_data_raw.csv\")\n",
    "\n",
    "pipeline_refactor = WeatherPostprocess(\n",
    "    shapefile=meta_data,\n",
    "    id_column=\"ID\",\n",
    "    resample_range=(\n",
    "        TIME_INTERVAL[0],\n",
    "        TIME_INTERVAL[1],\n",
    "        1,\n",
    "    ),  # You can even resample it using fixed periods of day (e.g. every 8 day)\n",
    ")\n",
    "daily_gdus = pipeline_refactor.execute(\n",
    "    df_weather=weather_data, stat=\"sum\", return_pivot=True\n",
    ")\n",
    "daily_gdus.to_csv(f\"{PATH_EXPERIMENT}/GDD_data.csv\", index=False)\n",
    "\n",
    "weather_data.head()"
   ]
  },
  {
   "cell_type": "markdown",
   "id": "9f34da29-38f7-4a2a-a560-89f4f36ba0d4",
   "metadata": {},
   "source": [
    "## Thermal time resampling"
   ]
  },
  {
   "cell_type": "code",
   "execution_count": 23,
   "id": "439f121f-efec-4647-89b6-fc6def41bd74",
   "metadata": {},
   "outputs": [],
   "source": [
    "# Thermal time resampling\n",
    "gdu = resampling.TempResampling(\n",
    "    range_dates=TIME_INTERVAL,  #  extracted from weather data\n",
    "    stop=TIME_INTERVAL[\n",
    "        -1\n",
    "    ],  # Stopping date for yield prediction model (useful for in season)\n",
    "    id_column=\"ID\",  # Ids of the observations, which is the saving path of EOPatch\n",
    "    smooth=True,  # Apply smoothing using sg filter\n",
    "    period_nas_rate=0.2,\n",
    ")\n",
    "\n",
    "# You must load those 3 files that you did in the step data_loader to do the resampling (prepared before)\n",
    "## Meta data\n",
    "meta_data = gdu.load_meta_data(\n",
    "    feature_vector=feature_vector, filepath=f\"{PATH_EXPERIMENT}/meta_data.npy\"\n",
    ")\n",
    "## Weather data\n",
    "weather_data = gdu.load_weather_data(filepath=f\"{PATH_EXPERIMENT}/GDD_data.csv\")\n",
    "## Satellite data\n",
    "x_s1 = gdu.load_sat_data(filepath=f\"{PATH_EXPERIMENT}/satellite_data.npy\")\n"
   ]
  },
  {
   "cell_type": "code",
   "execution_count": 24,
   "id": "647c6c08-d7d0-4df7-8cd5-5534a25bfe39",
   "metadata": {},
   "outputs": [
    {
     "name": "stdout",
     "output_type": "stream",
     "text": [
      "VH\n",
      "VV\n"
     ]
    },
    {
     "name": "stderr",
     "output_type": "stream",
     "text": [
      "C:\\Users\\s999379\\Miniconda3\\envs\\eo-crops\\lib\\site-packages\\eocrops\\utils\\base_functions.py:100: FutureWarning: The frame.append method is deprecated and will be removed from pandas in a future version. Use pandas.concat instead.\n",
      "  ds = ds.append(output)\n"
     ]
    }
   ],
   "source": [
    "# Define the parameters for temporal resampling\n",
    "kwargs_input = dict(\n",
    "    stat=\"mean\",  # aggregation over GDD periods (mean)\n",
    "    thermal_time=True,  # resample over thermal time? otherwise, calendar time\n",
    "    features_data=features_data,\n",
    "    increment=120,  # Number of GDDs per period (if thermal_time=False, you can specify 10 for 10-day period)\n",
    "    period_length=6,\n",
    ")\n",
    "\n",
    "# Prepare the output file with VH and VV resampled over thermal time\n",
    "ds = pd.DataFrame()\n",
    "for _, _, fname_, _, num in features_data:\n",
    "    # Resample satellite data for a given fname (VV or VH)\n",
    "    output, _ = gdu.resample_s2(**kwargs_input, fname=fname_)\n",
    "    # Contenate all the bands\n",
    "    ds = utils.concatenate_outputs(ds, output, fname_, id_column=\"ID\")"
   ]
  },
  {
   "cell_type": "code",
   "execution_count": 26,
   "id": "928a500d-9fce-4abd-9e7f-ccd422dbc39c",
   "metadata": {},
   "outputs": [
    {
     "data": {
      "text/html": [
       "<div>\n",
       "<style scoped>\n",
       "    .dataframe tbody tr th:only-of-type {\n",
       "        vertical-align: middle;\n",
       "    }\n",
       "\n",
       "    .dataframe tbody tr th {\n",
       "        vertical-align: top;\n",
       "    }\n",
       "\n",
       "    .dataframe thead th {\n",
       "        text-align: right;\n",
       "    }\n",
       "</style>\n",
       "<table border=\"1\" class=\"dataframe\">\n",
       "  <thead>\n",
       "    <tr style=\"text-align: right;\">\n",
       "      <th></th>\n",
       "      <th>ID</th>\n",
       "      <th>(VH, 0)</th>\n",
       "      <th>(VH, 1)</th>\n",
       "      <th>(VH, 2)</th>\n",
       "      <th>(VH, 3)</th>\n",
       "      <th>(VH, 4)</th>\n",
       "      <th>(VH, 5)</th>\n",
       "      <th>(VH, 6)</th>\n",
       "      <th>(VH, 7)</th>\n",
       "      <th>(VH, 8)</th>\n",
       "      <th>...</th>\n",
       "      <th>(VV, 26)</th>\n",
       "      <th>(VV, 27)</th>\n",
       "      <th>(VV, 28)</th>\n",
       "      <th>(VV, 29)</th>\n",
       "      <th>(VV, 30)</th>\n",
       "      <th>(VV, 31)</th>\n",
       "      <th>(VV, 32)</th>\n",
       "      <th>(VV, 33)</th>\n",
       "      <th>(VV, 34)</th>\n",
       "      <th>(VV, 35)</th>\n",
       "    </tr>\n",
       "  </thead>\n",
       "  <tbody>\n",
       "    <tr>\n",
       "      <th>0</th>\n",
       "      <td>1</td>\n",
       "      <td>0.020873</td>\n",
       "      <td>0.015591</td>\n",
       "      <td>0.012079</td>\n",
       "      <td>0.011867</td>\n",
       "      <td>0.015831</td>\n",
       "      <td>0.015476</td>\n",
       "      <td>0.01725</td>\n",
       "      <td>0.024987</td>\n",
       "      <td>0.023762</td>\n",
       "      <td>...</td>\n",
       "      <td>0.119587</td>\n",
       "      <td>0.127084</td>\n",
       "      <td>0.140267</td>\n",
       "      <td>0.127745</td>\n",
       "      <td>0.100579</td>\n",
       "      <td>0.094846</td>\n",
       "      <td>0.078625</td>\n",
       "      <td>0.046503</td>\n",
       "      <td>0.024062</td>\n",
       "      <td>0.023308</td>\n",
       "    </tr>\n",
       "  </tbody>\n",
       "</table>\n",
       "<p>1 rows × 73 columns</p>\n",
       "</div>"
      ],
      "text/plain": [
       "  ID   (VH, 0)   (VH, 1)   (VH, 2)   (VH, 3)   (VH, 4)   (VH, 5)  (VH, 6)  \\\n",
       "0  1  0.020873  0.015591  0.012079  0.011867  0.015831  0.015476  0.01725   \n",
       "\n",
       "    (VH, 7)   (VH, 8)  ...  (VV, 26)  (VV, 27)  (VV, 28)  (VV, 29)  (VV, 30)  \\\n",
       "0  0.024987  0.023762  ...  0.119587  0.127084  0.140267  0.127745  0.100579   \n",
       "\n",
       "   (VV, 31)  (VV, 32)  (VV, 33)  (VV, 34)  (VV, 35)  \n",
       "0  0.094846  0.078625  0.046503  0.024062  0.023308  \n",
       "\n",
       "[1 rows x 73 columns]"
      ]
     },
     "execution_count": 26,
     "metadata": {},
     "output_type": "execute_result"
    }
   ],
   "source": [
    "ds.head()"
   ]
  },
  {
   "cell_type": "code",
   "execution_count": 27,
   "id": "e76701ba-e68a-4054-9707-3ce45dab1c50",
   "metadata": {},
   "outputs": [
    {
     "data": {
      "image/png": "[encoded data removed]",
      "text/plain": [
       "<Figure size 500x200 with 1 Axes>"
      ]
     },
     "metadata": {},
     "output_type": "display_data"
    }
   ],
   "source": [
    "# Check the results after thermal resampling\n",
    "cols_vv = [k for k in ds.columns if 'VV' in k]\n",
    "cols_vh = [k for k in ds.columns if 'VH' in k]\n",
    "plt.plot(ds[cols_vv].iloc[0,:].values)\n",
    "plt.plot(ds[cols_vh].iloc[0,:].values)\n",
    "plt.legend(['VV', 'VH'])\n",
    "plt.show()"
   ]
  },
  {
   "cell_type": "code",
   "execution_count": null,
   "id": "975fdb39-5055-4a1f-902f-53252e81b855",
   "metadata": {},
   "outputs": [],
   "source": []
  }
 ],
 "metadata": {
  "kernelspec": {
   "display_name": "eo-crops",
   "language": "python",
   "name": "eo-crops"
  },
  "language_info": {
   "codemirror_mode": {
    "name": "ipython",
    "version": 3
   },
   "file_extension": ".py",
   "mimetype": "text/x-python",
   "name": "python",
   "nbconvert_exporter": "python",
   "pygments_lexer": "ipython3",
   "version": "3.9.16"
  }
 },
 "nbformat": 4,
 "nbformat_minor": 5
}
